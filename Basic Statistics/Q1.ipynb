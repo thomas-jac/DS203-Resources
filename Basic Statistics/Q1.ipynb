{
  "nbformat": 4,
  "nbformat_minor": 0,
  "metadata": {
    "colab": {
      "name": "DS203-Assignment-6-Q1.ipynb",
      "provenance": []
    },
    "kernelspec": {
      "name": "python3",
      "display_name": "Python 3"
    }
  },
  "cells": [
    {
      "cell_type": "markdown",
      "metadata": {
        "id": "U7_WyAl8HOOV"
      },
      "source": [
        "# Code References\n",
        "\n",
        "https://stackoverflow.com/questions/26886653/pandas-create-new-column-based-on-values-from-other-columns-apply-a-function-o\n",
        "\n",
        "https://stackoverflow.com/questions/15033511/compute-a-confidence-interval-from-sample-data\n",
        "\n",
        "https://stackoverflow.com/questions/50588602/calculating-loglikelihood-of-distributions-in-python"
      ]
    },
    {
      "cell_type": "code",
      "metadata": {
        "id": "CtCTC0SU4a5T",
        "outputId": "9ff37902-8e3d-4ce2-b46b-b4cbdc2c9334",
        "colab": {
          "resources": {
            "http://localhost:8080/nbextensions/google.colab/files.js": {
              "data": "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",
              "ok": true,
              "headers": [
                [
                  "content-type",
                  "application/javascript"
                ]
              ],
              "status": 200,
              "status_text": ""
            }
          },
          "base_uri": "https://localhost:8080/",
          "height": 72
        }
      },
      "source": [
        "from google.colab import files\n",
        "\n",
        "uploaded = files.upload()"
      ],
      "execution_count": null,
      "outputs": [
        {
          "output_type": "display_data",
          "data": {
            "text/html": [
              "\n",
              "     <input type=\"file\" id=\"files-54f4921e-6311-48f0-9a2b-303ca5a6638a\" name=\"files[]\" multiple disabled\n",
              "        style=\"border:none\" />\n",
              "     <output id=\"result-54f4921e-6311-48f0-9a2b-303ca5a6638a\">\n",
              "      Upload widget is only available when the cell has been executed in the\n",
              "      current browser session. Please rerun this cell to enable.\n",
              "      </output>\n",
              "      <script src=\"/nbextensions/google.colab/files.js\"></script> "
            ],
            "text/plain": [
              "<IPython.core.display.HTML object>"
            ]
          },
          "metadata": {
            "tags": []
          }
        },
        {
          "output_type": "stream",
          "text": [
            "Saving Suicide_rates.csv to Suicide_rates.csv\n"
          ],
          "name": "stdout"
        }
      ]
    },
    {
      "cell_type": "code",
      "metadata": {
        "id": "rZw5lvcdJYrO"
      },
      "source": [
        "import numpy as np\n",
        "import pandas as pd\n",
        "import matplotlib.pyplot as plt\n",
        "import seaborn as sb"
      ],
      "execution_count": null,
      "outputs": []
    },
    {
      "cell_type": "code",
      "metadata": {
        "id": "LzNZ-ipAJa1H",
        "outputId": "247a030f-4387-46fe-e681-2f88df10f0f0",
        "colab": {
          "base_uri": "https://localhost:8080/",
          "height": 555
        }
      },
      "source": [
        "df = pd.read_csv('Suicide_rates.csv')\n",
        "\n",
        "display(df)"
      ],
      "execution_count": null,
      "outputs": [
        {
          "output_type": "display_data",
          "data": {
            "text/html": [
              "<div>\n",
              "<style scoped>\n",
              "    .dataframe tbody tr th:only-of-type {\n",
              "        vertical-align: middle;\n",
              "    }\n",
              "\n",
              "    .dataframe tbody tr th {\n",
              "        vertical-align: top;\n",
              "    }\n",
              "\n",
              "    .dataframe thead th {\n",
              "        text-align: right;\n",
              "    }\n",
              "</style>\n",
              "<table border=\"1\" class=\"dataframe\">\n",
              "  <thead>\n",
              "    <tr style=\"text-align: right;\">\n",
              "      <th></th>\n",
              "      <th>country</th>\n",
              "      <th>year</th>\n",
              "      <th>sex</th>\n",
              "      <th>age</th>\n",
              "      <th>suicides_no</th>\n",
              "      <th>population</th>\n",
              "      <th>suicides/100k pop</th>\n",
              "      <th>country-year</th>\n",
              "      <th>HDI for year</th>\n",
              "      <th>gdp_for_year ($)</th>\n",
              "      <th>gdp_per_capita ($)</th>\n",
              "      <th>generation</th>\n",
              "    </tr>\n",
              "  </thead>\n",
              "  <tbody>\n",
              "    <tr>\n",
              "      <th>0</th>\n",
              "      <td>Albania</td>\n",
              "      <td>1987</td>\n",
              "      <td>male</td>\n",
              "      <td>15-24 years</td>\n",
              "      <td>21</td>\n",
              "      <td>312900</td>\n",
              "      <td>6.71</td>\n",
              "      <td>Albania1987</td>\n",
              "      <td>NaN</td>\n",
              "      <td>2,156,624,900</td>\n",
              "      <td>796</td>\n",
              "      <td>Generation X</td>\n",
              "    </tr>\n",
              "    <tr>\n",
              "      <th>1</th>\n",
              "      <td>Albania</td>\n",
              "      <td>1987</td>\n",
              "      <td>male</td>\n",
              "      <td>35-54 years</td>\n",
              "      <td>16</td>\n",
              "      <td>308000</td>\n",
              "      <td>5.19</td>\n",
              "      <td>Albania1987</td>\n",
              "      <td>NaN</td>\n",
              "      <td>2,156,624,900</td>\n",
              "      <td>796</td>\n",
              "      <td>Silent</td>\n",
              "    </tr>\n",
              "    <tr>\n",
              "      <th>2</th>\n",
              "      <td>Albania</td>\n",
              "      <td>1987</td>\n",
              "      <td>female</td>\n",
              "      <td>15-24 years</td>\n",
              "      <td>14</td>\n",
              "      <td>289700</td>\n",
              "      <td>4.83</td>\n",
              "      <td>Albania1987</td>\n",
              "      <td>NaN</td>\n",
              "      <td>2,156,624,900</td>\n",
              "      <td>796</td>\n",
              "      <td>Generation X</td>\n",
              "    </tr>\n",
              "    <tr>\n",
              "      <th>3</th>\n",
              "      <td>Albania</td>\n",
              "      <td>1987</td>\n",
              "      <td>male</td>\n",
              "      <td>75+ years</td>\n",
              "      <td>1</td>\n",
              "      <td>21800</td>\n",
              "      <td>4.59</td>\n",
              "      <td>Albania1987</td>\n",
              "      <td>NaN</td>\n",
              "      <td>2,156,624,900</td>\n",
              "      <td>796</td>\n",
              "      <td>G.I. Generation</td>\n",
              "    </tr>\n",
              "    <tr>\n",
              "      <th>4</th>\n",
              "      <td>Albania</td>\n",
              "      <td>1987</td>\n",
              "      <td>male</td>\n",
              "      <td>25-34 years</td>\n",
              "      <td>9</td>\n",
              "      <td>274300</td>\n",
              "      <td>3.28</td>\n",
              "      <td>Albania1987</td>\n",
              "      <td>NaN</td>\n",
              "      <td>2,156,624,900</td>\n",
              "      <td>796</td>\n",
              "      <td>Boomers</td>\n",
              "    </tr>\n",
              "    <tr>\n",
              "      <th>...</th>\n",
              "      <td>...</td>\n",
              "      <td>...</td>\n",
              "      <td>...</td>\n",
              "      <td>...</td>\n",
              "      <td>...</td>\n",
              "      <td>...</td>\n",
              "      <td>...</td>\n",
              "      <td>...</td>\n",
              "      <td>...</td>\n",
              "      <td>...</td>\n",
              "      <td>...</td>\n",
              "      <td>...</td>\n",
              "    </tr>\n",
              "    <tr>\n",
              "      <th>27815</th>\n",
              "      <td>Uzbekistan</td>\n",
              "      <td>2014</td>\n",
              "      <td>female</td>\n",
              "      <td>35-54 years</td>\n",
              "      <td>107</td>\n",
              "      <td>3620833</td>\n",
              "      <td>2.96</td>\n",
              "      <td>Uzbekistan2014</td>\n",
              "      <td>0.675</td>\n",
              "      <td>63,067,077,179</td>\n",
              "      <td>2309</td>\n",
              "      <td>Generation X</td>\n",
              "    </tr>\n",
              "    <tr>\n",
              "      <th>27816</th>\n",
              "      <td>Uzbekistan</td>\n",
              "      <td>2014</td>\n",
              "      <td>female</td>\n",
              "      <td>75+ years</td>\n",
              "      <td>9</td>\n",
              "      <td>348465</td>\n",
              "      <td>2.58</td>\n",
              "      <td>Uzbekistan2014</td>\n",
              "      <td>0.675</td>\n",
              "      <td>63,067,077,179</td>\n",
              "      <td>2309</td>\n",
              "      <td>Silent</td>\n",
              "    </tr>\n",
              "    <tr>\n",
              "      <th>27817</th>\n",
              "      <td>Uzbekistan</td>\n",
              "      <td>2014</td>\n",
              "      <td>male</td>\n",
              "      <td>5-14 years</td>\n",
              "      <td>60</td>\n",
              "      <td>2762158</td>\n",
              "      <td>2.17</td>\n",
              "      <td>Uzbekistan2014</td>\n",
              "      <td>0.675</td>\n",
              "      <td>63,067,077,179</td>\n",
              "      <td>2309</td>\n",
              "      <td>Generation Z</td>\n",
              "    </tr>\n",
              "    <tr>\n",
              "      <th>27818</th>\n",
              "      <td>Uzbekistan</td>\n",
              "      <td>2014</td>\n",
              "      <td>female</td>\n",
              "      <td>5-14 years</td>\n",
              "      <td>44</td>\n",
              "      <td>2631600</td>\n",
              "      <td>1.67</td>\n",
              "      <td>Uzbekistan2014</td>\n",
              "      <td>0.675</td>\n",
              "      <td>63,067,077,179</td>\n",
              "      <td>2309</td>\n",
              "      <td>Generation Z</td>\n",
              "    </tr>\n",
              "    <tr>\n",
              "      <th>27819</th>\n",
              "      <td>Uzbekistan</td>\n",
              "      <td>2014</td>\n",
              "      <td>female</td>\n",
              "      <td>55-74 years</td>\n",
              "      <td>21</td>\n",
              "      <td>1438935</td>\n",
              "      <td>1.46</td>\n",
              "      <td>Uzbekistan2014</td>\n",
              "      <td>0.675</td>\n",
              "      <td>63,067,077,179</td>\n",
              "      <td>2309</td>\n",
              "      <td>Boomers</td>\n",
              "    </tr>\n",
              "  </tbody>\n",
              "</table>\n",
              "<p>27820 rows × 12 columns</p>\n",
              "</div>"
            ],
            "text/plain": [
              "          country  year  ... gdp_per_capita ($)       generation\n",
              "0         Albania  1987  ...                796     Generation X\n",
              "1         Albania  1987  ...                796           Silent\n",
              "2         Albania  1987  ...                796     Generation X\n",
              "3         Albania  1987  ...                796  G.I. Generation\n",
              "4         Albania  1987  ...                796          Boomers\n",
              "...           ...   ...  ...                ...              ...\n",
              "27815  Uzbekistan  2014  ...               2309     Generation X\n",
              "27816  Uzbekistan  2014  ...               2309           Silent\n",
              "27817  Uzbekistan  2014  ...               2309     Generation Z\n",
              "27818  Uzbekistan  2014  ...               2309     Generation Z\n",
              "27819  Uzbekistan  2014  ...               2309          Boomers\n",
              "\n",
              "[27820 rows x 12 columns]"
            ]
          },
          "metadata": {
            "tags": []
          }
        }
      ]
    },
    {
      "cell_type": "code",
      "metadata": {
        "id": "2YECGhiqJdXm",
        "outputId": "69efd7dc-e96b-46aa-9b98-6dae0ae1b7fa",
        "colab": {
          "base_uri": "https://localhost:8080/",
          "height": 221
        }
      },
      "source": [
        "# Dropping the country-year column\n",
        "del df['country-year']\n",
        "\n",
        "# Changing all column names to remove unnecessary spaces in them\n",
        "df.rename(columns = lambda x: x.strip(), inplace = True)\n",
        "\n",
        "# Removing commas in GDP per year values of all records\n",
        "df['gdp_for_year ($)'] = df['gdp_for_year ($)'].str.replace(',', '').astype(float)\n",
        "\n",
        "df.dtypes"
      ],
      "execution_count": null,
      "outputs": [
        {
          "output_type": "execute_result",
          "data": {
            "text/plain": [
              "country                object\n",
              "year                    int64\n",
              "sex                    object\n",
              "age                    object\n",
              "suicides_no             int64\n",
              "population              int64\n",
              "suicides/100k pop     float64\n",
              "HDI for year          float64\n",
              "gdp_for_year ($)      float64\n",
              "gdp_per_capita ($)      int64\n",
              "generation             object\n",
              "dtype: object"
            ]
          },
          "metadata": {
            "tags": []
          },
          "execution_count": 4
        }
      ]
    },
    {
      "cell_type": "markdown",
      "metadata": {
        "id": "4vxe8nPLmvoG"
      },
      "source": [
        "# Point Estimates for Suicide/100k"
      ]
    },
    {
      "cell_type": "code",
      "metadata": {
        "id": "GhBCVn1I-pfI"
      },
      "source": [
        "def calc_suicides_100k(row):\n",
        "\n",
        "    return (float(row['suicides_no'])/float(row['population']))*100000"
      ],
      "execution_count": null,
      "outputs": []
    },
    {
      "cell_type": "code",
      "metadata": {
        "id": "CUO7wjkFMlkD",
        "outputId": "c239bb51-bcba-4758-fbdd-5762bf0ad9d5",
        "colab": {
          "base_uri": "https://localhost:8080/",
          "height": 977
        }
      },
      "source": [
        "import random\n",
        "\n",
        "# Calculating the yearly suicide rate (suicides/100k pop) by year and country\n",
        "df_year = df.groupby(['country', 'year'])['suicides_no', 'population'].sum()\n",
        "df_year.reset_index(inplace=True)\n",
        "\n",
        "# Filtering on the basis of population\n",
        "df_year = df_year.loc[df_year['population'] > 10000000]\n",
        "\n",
        "# Choosing only countries with data for all years between 1985 and 2015\n",
        "valid_year = [i for i in range(1985, 2016)]\n",
        "df_year = df_year.loc[df_year['year'].isin(valid_year)]\n",
        "\n",
        "# Choosing only countries with 31 unique year values (1 for each from 1985 to 2015)\n",
        "valid_country = []\n",
        "for country in pd.unique(df_year['country']):\n",
        "\n",
        "    df_year_country = df_year.loc[df_year['country'] == country]\n",
        "\n",
        "    if len(pd.unique(df_year_country['year'])) == 31:\n",
        "        valid_country.append(country)\n",
        "\n",
        "# Randomly choosing a set of 6 countries satisfying the criteria\n",
        "random_country = random.sample(valid_country, 6)\n",
        "\n",
        "df_year = df_year.loc[df_year['country'].isin(random_country)]\n",
        "\n",
        "# Calculating the suicides/100k column from the suicides and population column\n",
        "df_year['suicides/100k pop'] = df_year.apply(lambda row: calc_suicides_100k(row), axis=1)\n",
        "\n",
        "# Computing the point estimate of mean for suicides/100k\n",
        "df_year_mean = df_year.groupby(['country'])['suicides/100k pop'].mean().reset_index(name ='suicides/100k mean')\n",
        "\n",
        "# Computing the point estimate of variance for suicides/100k\n",
        "df_year_variance = df_year.groupby(['country'])['suicides/100k pop'].agg(np.var, ddof=0).reset_index(name ='suicides/100k variance')\n",
        "\n",
        "display(df_year)\n",
        "print('Mean values of suicides/100k are:')\n",
        "display(df_year_mean)\n",
        "print('-'*45, '\\n')\n",
        "print('Variance values of suicides/100k are:')\n",
        "display(df_year_variance)"
      ],
      "execution_count": null,
      "outputs": [
        {
          "output_type": "stream",
          "text": [
            "/usr/local/lib/python3.6/dist-packages/ipykernel_launcher.py:4: FutureWarning: Indexing with multiple keys (implicitly converted to a tuple of keys) will be deprecated, use a list instead.\n",
            "  after removing the cwd from sys.path.\n"
          ],
          "name": "stderr"
        },
        {
          "output_type": "display_data",
          "data": {
            "text/html": [
              "<div>\n",
              "<style scoped>\n",
              "    .dataframe tbody tr th:only-of-type {\n",
              "        vertical-align: middle;\n",
              "    }\n",
              "\n",
              "    .dataframe tbody tr th {\n",
              "        vertical-align: top;\n",
              "    }\n",
              "\n",
              "    .dataframe thead th {\n",
              "        text-align: right;\n",
              "    }\n",
              "</style>\n",
              "<table border=\"1\" class=\"dataframe\">\n",
              "  <thead>\n",
              "    <tr style=\"text-align: right;\">\n",
              "      <th></th>\n",
              "      <th>country</th>\n",
              "      <th>year</th>\n",
              "      <th>suicides_no</th>\n",
              "      <th>population</th>\n",
              "      <th>suicides/100k pop</th>\n",
              "    </tr>\n",
              "  </thead>\n",
              "  <tbody>\n",
              "    <tr>\n",
              "      <th>348</th>\n",
              "      <td>Brazil</td>\n",
              "      <td>1985</td>\n",
              "      <td>4228</td>\n",
              "      <td>117478900</td>\n",
              "      <td>3.598944</td>\n",
              "    </tr>\n",
              "    <tr>\n",
              "      <th>349</th>\n",
              "      <td>Brazil</td>\n",
              "      <td>1986</td>\n",
              "      <td>4271</td>\n",
              "      <td>118776400</td>\n",
              "      <td>3.595832</td>\n",
              "    </tr>\n",
              "    <tr>\n",
              "      <th>350</th>\n",
              "      <td>Brazil</td>\n",
              "      <td>1987</td>\n",
              "      <td>4672</td>\n",
              "      <td>122822467</td>\n",
              "      <td>3.803864</td>\n",
              "    </tr>\n",
              "    <tr>\n",
              "      <th>351</th>\n",
              "      <td>Brazil</td>\n",
              "      <td>1988</td>\n",
              "      <td>4466</td>\n",
              "      <td>125701294</td>\n",
              "      <td>3.552867</td>\n",
              "    </tr>\n",
              "    <tr>\n",
              "      <th>352</th>\n",
              "      <td>Brazil</td>\n",
              "      <td>1989</td>\n",
              "      <td>4463</td>\n",
              "      <td>128570308</td>\n",
              "      <td>3.471252</td>\n",
              "    </tr>\n",
              "    <tr>\n",
              "      <th>...</th>\n",
              "      <td>...</td>\n",
              "      <td>...</td>\n",
              "      <td>...</td>\n",
              "      <td>...</td>\n",
              "      <td>...</td>\n",
              "    </tr>\n",
              "    <tr>\n",
              "      <th>2235</th>\n",
              "      <td>United Kingdom</td>\n",
              "      <td>2011</td>\n",
              "      <td>4393</td>\n",
              "      <td>58881852</td>\n",
              "      <td>7.460703</td>\n",
              "    </tr>\n",
              "    <tr>\n",
              "      <th>2236</th>\n",
              "      <td>United Kingdom</td>\n",
              "      <td>2012</td>\n",
              "      <td>4444</td>\n",
              "      <td>59708630</td>\n",
              "      <td>7.442810</td>\n",
              "    </tr>\n",
              "    <tr>\n",
              "      <th>2237</th>\n",
              "      <td>United Kingdom</td>\n",
              "      <td>2013</td>\n",
              "      <td>4824</td>\n",
              "      <td>60091793</td>\n",
              "      <td>8.027719</td>\n",
              "    </tr>\n",
              "    <tr>\n",
              "      <th>2238</th>\n",
              "      <td>United Kingdom</td>\n",
              "      <td>2014</td>\n",
              "      <td>4788</td>\n",
              "      <td>60570482</td>\n",
              "      <td>7.904841</td>\n",
              "    </tr>\n",
              "    <tr>\n",
              "      <th>2239</th>\n",
              "      <td>United Kingdom</td>\n",
              "      <td>2015</td>\n",
              "      <td>4910</td>\n",
              "      <td>61082942</td>\n",
              "      <td>8.038251</td>\n",
              "    </tr>\n",
              "  </tbody>\n",
              "</table>\n",
              "<p>186 rows × 5 columns</p>\n",
              "</div>"
            ],
            "text/plain": [
              "             country  year  suicides_no  population  suicides/100k pop\n",
              "348           Brazil  1985         4228   117478900           3.598944\n",
              "349           Brazil  1986         4271   118776400           3.595832\n",
              "350           Brazil  1987         4672   122822467           3.803864\n",
              "351           Brazil  1988         4466   125701294           3.552867\n",
              "352           Brazil  1989         4463   128570308           3.471252\n",
              "...              ...   ...          ...         ...                ...\n",
              "2235  United Kingdom  2011         4393    58881852           7.460703\n",
              "2236  United Kingdom  2012         4444    59708630           7.442810\n",
              "2237  United Kingdom  2013         4824    60091793           8.027719\n",
              "2238  United Kingdom  2014         4788    60570482           7.904841\n",
              "2239  United Kingdom  2015         4910    61082942           8.038251\n",
              "\n",
              "[186 rows x 5 columns]"
            ]
          },
          "metadata": {
            "tags": []
          }
        },
        {
          "output_type": "stream",
          "text": [
            "Mean values of suicides/100k are:\n"
          ],
          "name": "stdout"
        },
        {
          "output_type": "display_data",
          "data": {
            "text/html": [
              "<div>\n",
              "<style scoped>\n",
              "    .dataframe tbody tr th:only-of-type {\n",
              "        vertical-align: middle;\n",
              "    }\n",
              "\n",
              "    .dataframe tbody tr th {\n",
              "        vertical-align: top;\n",
              "    }\n",
              "\n",
              "    .dataframe thead th {\n",
              "        text-align: right;\n",
              "    }\n",
              "</style>\n",
              "<table border=\"1\" class=\"dataframe\">\n",
              "  <thead>\n",
              "    <tr style=\"text-align: right;\">\n",
              "      <th></th>\n",
              "      <th>country</th>\n",
              "      <th>suicides/100k mean</th>\n",
              "    </tr>\n",
              "  </thead>\n",
              "  <tbody>\n",
              "    <tr>\n",
              "      <th>0</th>\n",
              "      <td>Brazil</td>\n",
              "      <td>4.570885</td>\n",
              "    </tr>\n",
              "    <tr>\n",
              "      <th>1</th>\n",
              "      <td>Colombia</td>\n",
              "      <td>4.674172</td>\n",
              "    </tr>\n",
              "    <tr>\n",
              "      <th>2</th>\n",
              "      <td>Italy</td>\n",
              "      <td>7.712660</td>\n",
              "    </tr>\n",
              "    <tr>\n",
              "      <th>3</th>\n",
              "      <td>Japan</td>\n",
              "      <td>21.886203</td>\n",
              "    </tr>\n",
              "    <tr>\n",
              "      <th>4</th>\n",
              "      <td>Mexico</td>\n",
              "      <td>3.858873</td>\n",
              "    </tr>\n",
              "    <tr>\n",
              "      <th>5</th>\n",
              "      <td>United Kingdom</td>\n",
              "      <td>7.884083</td>\n",
              "    </tr>\n",
              "  </tbody>\n",
              "</table>\n",
              "</div>"
            ],
            "text/plain": [
              "          country  suicides/100k mean\n",
              "0          Brazil            4.570885\n",
              "1        Colombia            4.674172\n",
              "2           Italy            7.712660\n",
              "3           Japan           21.886203\n",
              "4          Mexico            3.858873\n",
              "5  United Kingdom            7.884083"
            ]
          },
          "metadata": {
            "tags": []
          }
        },
        {
          "output_type": "stream",
          "text": [
            "--------------------------------------------- \n",
            "\n",
            "Variance values of suicides/100k are:\n"
          ],
          "name": "stdout"
        },
        {
          "output_type": "display_data",
          "data": {
            "text/html": [
              "<div>\n",
              "<style scoped>\n",
              "    .dataframe tbody tr th:only-of-type {\n",
              "        vertical-align: middle;\n",
              "    }\n",
              "\n",
              "    .dataframe tbody tr th {\n",
              "        vertical-align: top;\n",
              "    }\n",
              "\n",
              "    .dataframe thead th {\n",
              "        text-align: right;\n",
              "    }\n",
              "</style>\n",
              "<table border=\"1\" class=\"dataframe\">\n",
              "  <thead>\n",
              "    <tr style=\"text-align: right;\">\n",
              "      <th></th>\n",
              "      <th>country</th>\n",
              "      <th>suicides/100k variance</th>\n",
              "    </tr>\n",
              "  </thead>\n",
              "  <tbody>\n",
              "    <tr>\n",
              "      <th>0</th>\n",
              "      <td>Brazil</td>\n",
              "      <td>0.474871</td>\n",
              "    </tr>\n",
              "    <tr>\n",
              "      <th>1</th>\n",
              "      <td>Colombia</td>\n",
              "      <td>1.269771</td>\n",
              "    </tr>\n",
              "    <tr>\n",
              "      <th>2</th>\n",
              "      <td>Italy</td>\n",
              "      <td>0.465664</td>\n",
              "    </tr>\n",
              "    <tr>\n",
              "      <th>3</th>\n",
              "      <td>Japan</td>\n",
              "      <td>10.352720</td>\n",
              "    </tr>\n",
              "    <tr>\n",
              "      <th>4</th>\n",
              "      <td>Mexico</td>\n",
              "      <td>0.873416</td>\n",
              "    </tr>\n",
              "    <tr>\n",
              "      <th>5</th>\n",
              "      <td>United Kingdom</td>\n",
              "      <td>0.456160</td>\n",
              "    </tr>\n",
              "  </tbody>\n",
              "</table>\n",
              "</div>"
            ],
            "text/plain": [
              "          country  suicides/100k variance\n",
              "0          Brazil                0.474871\n",
              "1        Colombia                1.269771\n",
              "2           Italy                0.465664\n",
              "3           Japan               10.352720\n",
              "4          Mexico                0.873416\n",
              "5  United Kingdom                0.456160"
            ]
          },
          "metadata": {
            "tags": []
          }
        }
      ]
    },
    {
      "cell_type": "markdown",
      "metadata": {
        "id": "e5XkgFW5mn9P"
      },
      "source": [
        "# QQ Plots for Yearly Suicide Rates"
      ]
    },
    {
      "cell_type": "code",
      "metadata": {
        "id": "rLef3ZBpPpGC",
        "outputId": "ab27e1c0-7246-4e90-a179-ee5f931f5bb0",
        "colab": {
          "base_uri": "https://localhost:8080/",
          "height": 1000
        }
      },
      "source": [
        "import statsmodels.api as sm\n",
        "\n",
        "for country in pd.unique(df_year['country']):\n",
        "\n",
        "    # Creating a new data-frame with the specified country\n",
        "    df_year_country = df_year.loc[df_year['country'] == country]\n",
        "    \n",
        "    # Setting the figure size\n",
        "    plt.figure(figsize = (15, 10))\n",
        "\n",
        "    print('QQ Plot for yearly suicide rates of {}:'.format(country))\n",
        "    \n",
        "    # Plotting the QQ plot\n",
        "    sm.qqplot(df_year_country['suicides/100k pop'], line = 's')\n",
        "\n",
        "    # Setting various axis parameters\n",
        "    plt.tick_params(axis='x', which='major', labelsize=12)\n",
        " \n",
        "    plt.xlabel(\"Gaussian Distribution\", fontsize = 14)\n",
        "    \n",
        "    plt.tick_params(axis='y', which='major', labelsize=12)\n",
        "    \n",
        "    plt.ylabel(\"Yearly Suicide Rates Distribution\", fontsize = 14)\n",
        "    \n",
        "    plt.show()\n",
        "\n",
        "    print('-'*20)"
      ],
      "execution_count": null,
      "outputs": [
        {
          "output_type": "stream",
          "text": [
            "/usr/local/lib/python3.6/dist-packages/statsmodels/tools/_testing.py:19: FutureWarning: pandas.util.testing is deprecated. Use the functions in the public API at pandas.testing instead.\n",
            "  import pandas.util.testing as tm\n"
          ],
          "name": "stderr"
        },
        {
          "output_type": "stream",
          "text": [
            "QQ Plot for yearly suicide rates of Brazil:\n"
          ],
          "name": "stdout"
        },
        {
          "output_type": "display_data",
          "data": {
            "text/plain": [
              "<Figure size 1080x720 with 0 Axes>"
            ]
          },
          "metadata": {
            "tags": []
          }
        },
        {
          "output_type": "display_data",
          "data": {
            "image/png": "[encoded data removed]",
            "text/plain": [
              "<Figure size 432x288 with 1 Axes>"
            ]
          },
          "metadata": {
            "tags": [],
            "needs_background": "light"
          }
        },
        {
          "output_type": "stream",
          "text": [
            "--------------------\n",
            "QQ Plot for yearly suicide rates of Colombia:\n"
          ],
          "name": "stdout"
        },
        {
          "output_type": "display_data",
          "data": {
            "text/plain": [
              "<Figure size 1080x720 with 0 Axes>"
            ]
          },
          "metadata": {
            "tags": []
          }
        },
        {
          "output_type": "display_data",
          "data": {
            "image/png": "[encoded data removed]",
            "text/plain": [
              "<Figure size 432x288 with 1 Axes>"
            ]
          },
          "metadata": {
            "tags": [],
            "needs_background": "light"
          }
        },
        {
          "output_type": "stream",
          "text": [
            "--------------------\n",
            "QQ Plot for yearly suicide rates of Italy:\n"
          ],
          "name": "stdout"
        },
        {
          "output_type": "display_data",
          "data": {
            "text/plain": [
              "<Figure size 1080x720 with 0 Axes>"
            ]
          },
          "metadata": {
            "tags": []
          }
        },
        {
          "output_type": "display_data",
          "data": {
            "image/png": "[encoded data removed]",
            "text/plain": [
              "<Figure size 432x288 with 1 Axes>"
            ]
          },
          "metadata": {
            "tags": [],
            "needs_background": "light"
          }
        },
        {
          "output_type": "stream",
          "text": [
            "--------------------\n",
            "QQ Plot for yearly suicide rates of Japan:\n"
          ],
          "name": "stdout"
        },
        {
          "output_type": "display_data",
          "data": {
            "text/plain": [
              "<Figure size 1080x720 with 0 Axes>"
            ]
          },
          "metadata": {
            "tags": []
          }
        },
        {
          "output_type": "display_data",
          "data": {
            "image/png": "[encoded data removed]",
            "text/plain": [
              "<Figure size 432x288 with 1 Axes>"
            ]
          },
          "metadata": {
            "tags": [],
            "needs_background": "light"
          }
        },
        {
          "output_type": "stream",
          "text": [
            "--------------------\n",
            "QQ Plot for yearly suicide rates of Mexico:\n"
          ],
          "name": "stdout"
        },
        {
          "output_type": "display_data",
          "data": {
            "text/plain": [
              "<Figure size 1080x720 with 0 Axes>"
            ]
          },
          "metadata": {
            "tags": []
          }
        },
        {
          "output_type": "display_data",
          "data": {
            "image/png": "[encoded data removed]",
            "text/plain": [
              "<Figure size 432x288 with 1 Axes>"
            ]
          },
          "metadata": {
            "tags": [],
            "needs_background": "light"
          }
        },
        {
          "output_type": "stream",
          "text": [
            "--------------------\n",
            "QQ Plot for yearly suicide rates of United Kingdom:\n"
          ],
          "name": "stdout"
        },
        {
          "output_type": "display_data",
          "data": {
            "text/plain": [
              "<Figure size 1080x720 with 0 Axes>"
            ]
          },
          "metadata": {
            "tags": []
          }
        },
        {
          "output_type": "display_data",
          "data": {
            "image/png": "[encoded data removed]",
            "text/plain": [
              "<Figure size 432x288 with 1 Axes>"
            ]
          },
          "metadata": {
            "tags": [],
            "needs_background": "light"
          }
        },
        {
          "output_type": "stream",
          "text": [
            "--------------------\n"
          ],
          "name": "stdout"
        }
      ]
    },
    {
      "cell_type": "markdown",
      "metadata": {
        "id": "9c6-lSg4Wetx"
      },
      "source": [
        "# Log Likelihood"
      ]
    },
    {
      "cell_type": "code",
      "metadata": {
        "id": "9mbk0BINrdN1",
        "outputId": "50987d41-638f-4689-bece-a4e66e384f91",
        "colab": {
          "base_uri": "https://localhost:8080/",
          "height": 119
        }
      },
      "source": [
        "import scipy.stats.distributions\n",
        "\n",
        "for country in pd.unique(df_year['country']):\n",
        "\n",
        "    # Creating a new data-frame with the specified country\n",
        "    df_year_country = df_year.loc[df_year['country'] == country]\n",
        "    \n",
        "    # Fitting the data to a normal distribution (assumed)\n",
        "    dist = getattr(scipy.stats, 'norm')\n",
        "    params = dist.fit(df_year_country['suicides/100k pop'])\n",
        "\n",
        "    # Calculating the log likelihood using the calculated fitting parameters\n",
        "    LLH = dist.logpdf(df_year_country['suicides/100k pop'], *params).sum()\n",
        "    print('Log Likelihood value for {} is:'.format(country), LLH)"
      ],
      "execution_count": null,
      "outputs": [
        {
          "output_type": "stream",
          "text": [
            "Log Likelihood value for Brazil is: -32.44404884999351\n",
            "Log Likelihood value for Colombia is: -47.68905694836522\n",
            "Log Likelihood value for Italy is: -32.14058949056136\n",
            "Log Likelihood value for Japan is: -80.21445793890175\n",
            "Log Likelihood value for Mexico is: -41.88927280135171\n",
            "Log Likelihood value for United Kingdom is: -31.820965606886762\n"
          ],
          "name": "stdout"
        }
      ]
    },
    {
      "cell_type": "markdown",
      "metadata": {
        "id": "Aq0ICw5-4Rjs"
      },
      "source": [
        "Comparing the log likelihood values obtained, we see that more negative the value of the log likelihood, the worse it fits to the straight line on the QQ plot, implying a greater deviation from a Gaussian distribution which is what is to be expected"
      ]
    },
    {
      "cell_type": "markdown",
      "metadata": {
        "id": "-9qEsN7VWXaA"
      },
      "source": [
        "# 95% Confidence Interval"
      ]
    },
    {
      "cell_type": "code",
      "metadata": {
        "id": "iIzgrYSEx9jy"
      },
      "source": [
        "import numpy as np\n",
        "import scipy.stats\n",
        "\n",
        "# Function to calculate mean confidence interval\n",
        "def mean_confidence_interval(data, confidence=0.95):\n",
        "    \n",
        "    a = 1.0 * np.array(data)\n",
        "    n = len(a)\n",
        "    \n",
        "    # Calculating the mean and standard error of mean\n",
        "    m, se = np.mean(a), scipy.stats.sem(a)\n",
        "    \n",
        "    # Using the mean CI formula for the T-distribution\n",
        "    h = se * scipy.stats.t.ppf((1 + confidence) / 2., n-1)\n",
        "    return m, m-h, m+h"
      ],
      "execution_count": null,
      "outputs": []
    },
    {
      "cell_type": "code",
      "metadata": {
        "id": "ztJzYik39w8G",
        "outputId": "3009d9d8-8436-499e-85d3-360aa85a680d",
        "colab": {
          "base_uri": "https://localhost:8080/",
          "height": 323
        }
      },
      "source": [
        "for country in pd.unique(df_year['country']):\n",
        "\n",
        "    # Creating a new data-frame with the specified country\n",
        "    df_year_country = df_year.loc[df_year['country'] == country]\n",
        "    \n",
        "    mean, lower_limit, upper_limit = mean_confidence_interval(df_year_country['suicides/100k pop'])\n",
        "    \n",
        "    print('Sample mean for yearly suicide rates of {} is:'.format(country), mean)\n",
        "    print('95% CI Interval of mean for yearly suicide rates of {} is:'.format(country), '(', lower_limit, ', ', upper_limit, ')')\n",
        "    print('-'*20)"
      ],
      "execution_count": null,
      "outputs": [
        {
          "output_type": "stream",
          "text": [
            "Sample mean for yearly suicide rates of Brazil is: 4.570885198723902\n",
            "95% CI Interval of mean for yearly suicide rates of Brazil is: ( 4.313939849600639 ,  4.827830547847165 )\n",
            "--------------------\n",
            "Sample mean for yearly suicide rates of Colombia is: 4.67417233412583\n",
            "95% CI Interval of mean for yearly suicide rates of Colombia is: ( 4.25401137757669 ,  5.094333290674969 )\n",
            "--------------------\n",
            "Sample mean for yearly suicide rates of Italy is: 7.712660437386647\n",
            "95% CI Interval of mean for yearly suicide rates of Italy is: ( 7.458218058475737 ,  7.967102816297558 )\n",
            "--------------------\n",
            "Sample mean for yearly suicide rates of Japan is: 21.88620318700118\n",
            "95% CI Interval of mean for yearly suicide rates of Japan is: ( 20.686482135935748 ,  23.08592423806661 )\n",
            "--------------------\n",
            "Sample mean for yearly suicide rates of Mexico is: 3.8588729589586546\n",
            "95% CI Interval of mean for yearly suicide rates of Mexico is: ( 3.510404383059563 ,  4.207341534857746 )\n",
            "--------------------\n",
            "Sample mean for yearly suicide rates of United Kingdom is: 7.8840826914301525\n",
            "95% CI Interval of mean for yearly suicide rates of United Kingdom is: ( 7.63225024947026 ,  8.135915133390045 )\n",
            "--------------------\n"
          ],
          "name": "stdout"
        }
      ]
    },
    {
      "cell_type": "markdown",
      "metadata": {
        "id": "Tac3aMcGVi6m"
      },
      "source": [
        "# Welch T-Test"
      ]
    },
    {
      "cell_type": "code",
      "metadata": {
        "id": "sfxeVItH-ina"
      },
      "source": [
        "def Welch_ttest(a, b):\n",
        "\n",
        "    # Calculating the t-statistic and significance using the Welch test\n",
        "    t, p_value = scipy.stats.ttest_ind(a, b, equal_var=False, nan_policy='propagate')\n",
        "\n",
        "    if p_value <= 0.05:\n",
        "        print('Null hypothesis rejected; mean values are really different')\n",
        "\n",
        "    else:\n",
        "        print('Mean values cannot be said to be different definitively')"
      ],
      "execution_count": null,
      "outputs": []
    },
    {
      "cell_type": "code",
      "metadata": {
        "id": "BibCwh1SRI95",
        "outputId": "24de3d4b-ebe6-402e-d634-9923664db4aa",
        "colab": {
          "base_uri": "https://localhost:8080/",
          "height": 34
        }
      },
      "source": [
        "# Selecting Brazil & Colombia as their mean suicide rates are the closest\n",
        "\n",
        "df_year_country_1 = df_year.loc[df_year['country'] == 'Brazil']\n",
        "data_1 = df_year_country_1['suicides/100k pop']\n",
        "\n",
        "df_year_country_2 = df_year.loc[df_year['country'] == 'Colombia']\n",
        "data_2 = df_year_country_2['suicides/100k pop']\n",
        "\n",
        "Welch_ttest(np.array(data_1), np.array(data_2))"
      ],
      "execution_count": null,
      "outputs": [
        {
          "output_type": "stream",
          "text": [
            "Mean values cannot be said to be different definitively\n"
          ],
          "name": "stdout"
        }
      ]
    },
    {
      "cell_type": "markdown",
      "metadata": {
        "id": "Sppl1zT9VlS5"
      },
      "source": [
        "# Wilcoxon Signed Rank Test"
      ]
    },
    {
      "cell_type": "code",
      "metadata": {
        "id": "GtHaQAbPSzfo"
      },
      "source": [
        "def Wilcoxon_signed_rank_test(a, b):\n",
        "\n",
        "    # Calculating the t-statistic and significance using the Wilcoxon signed rank test\n",
        "    t, p_value = scipy.stats.wilcoxon(a, b)\n",
        "\n",
        "    if p_value <= 0.05:\n",
        "        print('Null hypothesis rejected; mean values are really different')\n",
        "\n",
        "    else:\n",
        "        print('Mean values cannot be said to be different definitively')"
      ],
      "execution_count": null,
      "outputs": []
    },
    {
      "cell_type": "code",
      "metadata": {
        "id": "OnGm3cUZWGt1",
        "outputId": "c9bca8d4-4072-4396-ebc6-6a2344b26bf2",
        "colab": {
          "base_uri": "https://localhost:8080/",
          "height": 34
        }
      },
      "source": [
        "# Selecting Brazil & Colombia as their mean suicide rates are the closest\n",
        "\n",
        "df_year_country_1 = df_year.loc[df_year['country'] == 'Brazil']\n",
        "data_1 = df_year_country_1['suicides/100k pop']\n",
        "\n",
        "df_year_country_2 = df_year.loc[df_year['country'] == 'Colombia']\n",
        "data_2 = df_year_country_2['suicides/100k pop']\n",
        "\n",
        "Wilcoxon_signed_rank_test(np.array(data_1), np.array(data_2))"
      ],
      "execution_count": null,
      "outputs": [
        {
          "output_type": "stream",
          "text": [
            "Mean values cannot be said to be different definitively\n"
          ],
          "name": "stdout"
        }
      ]
    },
    {
      "cell_type": "markdown",
      "metadata": {
        "id": "pVWTf2PcYmap"
      },
      "source": [
        "# Paired T-Test"
      ]
    },
    {
      "cell_type": "code",
      "metadata": {
        "id": "Sgc5BgnqWLVH"
      },
      "source": [
        "def paired_ttest(a, b):\n",
        "\n",
        "    # Calculating the t-statistic and significance using the paired T-test\n",
        "    t, p_value = scipy.stats.ttest_rel(a, b, axis=0, nan_policy='propagate')\n",
        "\n",
        "    if p_value <= 0.05:\n",
        "        print('Null hypothesis rejected; mean values are really different')\n",
        "\n",
        "    else:\n",
        "        print('Mean values cannot be said to be different definitively')"
      ],
      "execution_count": null,
      "outputs": []
    },
    {
      "cell_type": "code",
      "metadata": {
        "id": "saz3tI-8Y5iN",
        "outputId": "31d8baa2-614a-4d84-9b8a-65369ac5a001",
        "colab": {
          "base_uri": "https://localhost:8080/",
          "height": 34
        }
      },
      "source": [
        "# Selecting Brazil & Colombia as their mean suicide rates are the closest\n",
        "\n",
        "df_year_country_1 = df_year.loc[df_year['country'] == 'Brazil']\n",
        "data_1 = df_year_country_1['suicides/100k pop']\n",
        "\n",
        "df_year_country_2 = df_year.loc[df_year['country'] == 'Colombia']\n",
        "data_2 = df_year_country_2['suicides/100k pop']\n",
        "\n",
        "paired_ttest(np.array(data_1), np.array(data_2))"
      ],
      "execution_count": null,
      "outputs": [
        {
          "output_type": "stream",
          "text": [
            "Mean values cannot be said to be different definitively\n"
          ],
          "name": "stdout"
        }
      ]
    },
    {
      "cell_type": "markdown",
      "metadata": {
        "id": "AM0klQLFfQjL"
      },
      "source": [
        "# Spearman's Correlation"
      ]
    },
    {
      "cell_type": "code",
      "metadata": {
        "id": "m0uhlaNoY-WB",
        "outputId": "5715b1f7-e506-4abe-eddf-c0ea67cea87a",
        "colab": {
          "base_uri": "https://localhost:8080/",
          "height": 473
        }
      },
      "source": [
        "# Dropping all the records with missing HDI values\n",
        "df_hdi = df.dropna(axis = 0, how = 'any')\n",
        "\n",
        "# Calculating the yearly suicide rate (suicides/100k pop) by year, country, HDI, and GDP per capita\n",
        "df_year_all = df_hdi.groupby(['country', 'year', 'HDI for year', 'gdp_per_capita ($)'])['suicides_no', 'population'].sum()\n",
        "df_year_all.reset_index(inplace=True)\n",
        "\n",
        "# Calculating the suicides/100k column from the suicides and population column\n",
        "df_year_all['suicides/100k pop'] = df_year_all.apply(lambda row: calc_suicides_100k(row), axis=1)\n",
        "\n",
        "display(df_year_all)"
      ],
      "execution_count": null,
      "outputs": [
        {
          "output_type": "stream",
          "text": [
            "/usr/local/lib/python3.6/dist-packages/ipykernel_launcher.py:5: FutureWarning: Indexing with multiple keys (implicitly converted to a tuple of keys) will be deprecated, use a list instead.\n",
            "  \"\"\"\n"
          ],
          "name": "stderr"
        },
        {
          "output_type": "display_data",
          "data": {
            "text/html": [
              "<div>\n",
              "<style scoped>\n",
              "    .dataframe tbody tr th:only-of-type {\n",
              "        vertical-align: middle;\n",
              "    }\n",
              "\n",
              "    .dataframe tbody tr th {\n",
              "        vertical-align: top;\n",
              "    }\n",
              "\n",
              "    .dataframe thead th {\n",
              "        text-align: right;\n",
              "    }\n",
              "</style>\n",
              "<table border=\"1\" class=\"dataframe\">\n",
              "  <thead>\n",
              "    <tr style=\"text-align: right;\">\n",
              "      <th></th>\n",
              "      <th>country</th>\n",
              "      <th>year</th>\n",
              "      <th>HDI for year</th>\n",
              "      <th>gdp_per_capita ($)</th>\n",
              "      <th>suicides_no</th>\n",
              "      <th>population</th>\n",
              "      <th>suicides/100k pop</th>\n",
              "    </tr>\n",
              "  </thead>\n",
              "  <tbody>\n",
              "    <tr>\n",
              "      <th>0</th>\n",
              "      <td>Albania</td>\n",
              "      <td>1995</td>\n",
              "      <td>0.619</td>\n",
              "      <td>835</td>\n",
              "      <td>88</td>\n",
              "      <td>2903400</td>\n",
              "      <td>3.030929</td>\n",
              "    </tr>\n",
              "    <tr>\n",
              "      <th>1</th>\n",
              "      <td>Albania</td>\n",
              "      <td>2000</td>\n",
              "      <td>0.656</td>\n",
              "      <td>1299</td>\n",
              "      <td>54</td>\n",
              "      <td>2796300</td>\n",
              "      <td>1.931123</td>\n",
              "    </tr>\n",
              "    <tr>\n",
              "      <th>2</th>\n",
              "      <td>Albania</td>\n",
              "      <td>2005</td>\n",
              "      <td>0.695</td>\n",
              "      <td>2931</td>\n",
              "      <td>0</td>\n",
              "      <td>2783320</td>\n",
              "      <td>0.000000</td>\n",
              "    </tr>\n",
              "    <tr>\n",
              "      <th>3</th>\n",
              "      <td>Albania</td>\n",
              "      <td>2010</td>\n",
              "      <td>0.722</td>\n",
              "      <td>4359</td>\n",
              "      <td>96</td>\n",
              "      <td>2736025</td>\n",
              "      <td>3.508740</td>\n",
              "    </tr>\n",
              "    <tr>\n",
              "      <th>4</th>\n",
              "      <td>Antigua and Barbuda</td>\n",
              "      <td>2012</td>\n",
              "      <td>0.781</td>\n",
              "      <td>13657</td>\n",
              "      <td>0</td>\n",
              "      <td>88703</td>\n",
              "      <td>0.000000</td>\n",
              "    </tr>\n",
              "    <tr>\n",
              "      <th>...</th>\n",
              "      <td>...</td>\n",
              "      <td>...</td>\n",
              "      <td>...</td>\n",
              "      <td>...</td>\n",
              "      <td>...</td>\n",
              "      <td>...</td>\n",
              "      <td>...</td>\n",
              "    </tr>\n",
              "    <tr>\n",
              "      <th>692</th>\n",
              "      <td>Uzbekistan</td>\n",
              "      <td>2010</td>\n",
              "      <td>0.655</td>\n",
              "      <td>1533</td>\n",
              "      <td>1464</td>\n",
              "      <td>25651783</td>\n",
              "      <td>5.707206</td>\n",
              "    </tr>\n",
              "    <tr>\n",
              "      <th>693</th>\n",
              "      <td>Uzbekistan</td>\n",
              "      <td>2011</td>\n",
              "      <td>0.661</td>\n",
              "      <td>1767</td>\n",
              "      <td>1640</td>\n",
              "      <td>25978049</td>\n",
              "      <td>6.313022</td>\n",
              "    </tr>\n",
              "    <tr>\n",
              "      <th>694</th>\n",
              "      <td>Uzbekistan</td>\n",
              "      <td>2012</td>\n",
              "      <td>0.668</td>\n",
              "      <td>1964</td>\n",
              "      <td>1835</td>\n",
              "      <td>26381830</td>\n",
              "      <td>6.955545</td>\n",
              "    </tr>\n",
              "    <tr>\n",
              "      <th>695</th>\n",
              "      <td>Uzbekistan</td>\n",
              "      <td>2013</td>\n",
              "      <td>0.672</td>\n",
              "      <td>2150</td>\n",
              "      <td>1950</td>\n",
              "      <td>26838924</td>\n",
              "      <td>7.265567</td>\n",
              "    </tr>\n",
              "    <tr>\n",
              "      <th>696</th>\n",
              "      <td>Uzbekistan</td>\n",
              "      <td>2014</td>\n",
              "      <td>0.675</td>\n",
              "      <td>2309</td>\n",
              "      <td>2095</td>\n",
              "      <td>27313507</td>\n",
              "      <td>7.670198</td>\n",
              "    </tr>\n",
              "  </tbody>\n",
              "</table>\n",
              "<p>697 rows × 7 columns</p>\n",
              "</div>"
            ],
            "text/plain": [
              "                 country  year  ...  population  suicides/100k pop\n",
              "0                Albania  1995  ...     2903400           3.030929\n",
              "1                Albania  2000  ...     2796300           1.931123\n",
              "2                Albania  2005  ...     2783320           0.000000\n",
              "3                Albania  2010  ...     2736025           3.508740\n",
              "4    Antigua and Barbuda  2012  ...       88703           0.000000\n",
              "..                   ...   ...  ...         ...                ...\n",
              "692           Uzbekistan  2010  ...    25651783           5.707206\n",
              "693           Uzbekistan  2011  ...    25978049           6.313022\n",
              "694           Uzbekistan  2012  ...    26381830           6.955545\n",
              "695           Uzbekistan  2013  ...    26838924           7.265567\n",
              "696           Uzbekistan  2014  ...    27313507           7.670198\n",
              "\n",
              "[697 rows x 7 columns]"
            ]
          },
          "metadata": {
            "tags": []
          }
        }
      ]
    },
    {
      "cell_type": "code",
      "metadata": {
        "id": "-xyoBXXKdQCs"
      },
      "source": [
        "def spearmanr(a, b):\n",
        "\n",
        "    # Calculating the correlation and significance values\n",
        "    correlation, p_value = scipy.stats.spearmanr(a, b, axis=0, nan_policy='propagate')\n",
        "\n",
        "    if p_value <= 0.05:\n",
        "        print('Correlation value: ', correlation)\n",
        "        print('Significance of correlation: ', p_value)\n",
        "        print('Null hypothesis rejected')\n",
        "\n",
        "    else:\n",
        "        print('Correlation value: ', correlation)\n",
        "        print('Significance of correlation: ', p_value)\n",
        "        print('Null hypothesis cannot be rejected due to insufficient significance')"
      ],
      "execution_count": null,
      "outputs": []
    },
    {
      "cell_type": "code",
      "metadata": {
        "id": "P6RZ__7WgoyB",
        "outputId": "3e1491ec-1394-4d5e-f0dc-ee9ea2861d47",
        "colab": {
          "base_uri": "https://localhost:8080/",
          "height": 170
        }
      },
      "source": [
        "# Correlation between yearly suicides and HDI for year\n",
        "print('Exploring correlation between yearly suicides and HDI for year:')\n",
        "suicides_hdi_corr = spearmanr(np.array(df_year_all['suicides/100k pop']), np.array(df_year_all['HDI for year']))\n",
        "\n",
        "# Correlation between yearly suicides and gdp_per_capita\n",
        "print('\\nExploring correlation between yearly suicides and gdp_per_capita:')\n",
        "suicides_gdp_corr = spearmanr(np.array(df_year_all['suicides/100k pop']), np.array(df_year_all['gdp_per_capita ($)']))"
      ],
      "execution_count": null,
      "outputs": [
        {
          "output_type": "stream",
          "text": [
            "Exploring correlation between yearly suicides and HDI for year:\n",
            "Correlation value:  0.3318618026778759\n",
            "Significance of correlation:  2.215829467752491e-19\n",
            "Null hypothesis rejected\n",
            "\n",
            "Exploring correlation between yearly suicides and gdp_per_capita:\n",
            "Correlation value:  0.1880257615068339\n",
            "Significance of correlation:  5.739795045402773e-07\n",
            "Null hypothesis rejected\n"
          ],
          "name": "stdout"
        }
      ]
    }
  ]
}