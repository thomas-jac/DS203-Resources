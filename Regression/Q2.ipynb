{
  "nbformat": 4,
  "nbformat_minor": 0,
  "metadata": {
    "colab": {
      "name": "DS203-Assignment-7-Q2.ipynb",
      "provenance": []
    },
    "kernelspec": {
      "name": "python3",
      "display_name": "Python 3"
    }
  },
  "cells": [
    {
      "cell_type": "code",
      "metadata": {
        "id": "_6tzwuyFvR6K",
        "outputId": "53da47e9-9738-4a3e-b707-05ae64035f21",
        "colab": {
          "resources": {
            "http://localhost:8080/nbextensions/google.colab/files.js": {
              "data": "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",
              "ok": true,
              "headers": [
                [
                  "content-type",
                  "application/javascript"
                ]
              ],
              "status": 200,
              "status_text": ""
            }
          },
          "base_uri": "https://localhost:8080/",
          "height": 72
        }
      },
      "source": [
        "from google.colab import files\n",
        "\n",
        "uploaded = files.upload()"
      ],
      "execution_count": 1,
      "outputs": [
        {
          "output_type": "display_data",
          "data": {
            "text/html": [
              "\n",
              "     <input type=\"file\" id=\"files-cf104e28-f4d5-4018-9161-95fbf1538dff\" name=\"files[]\" multiple disabled\n",
              "        style=\"border:none\" />\n",
              "     <output id=\"result-cf104e28-f4d5-4018-9161-95fbf1538dff\">\n",
              "      Upload widget is only available when the cell has been executed in the\n",
              "      current browser session. Please rerun this cell to enable.\n",
              "      </output>\n",
              "      <script src=\"/nbextensions/google.colab/files.js\"></script> "
            ],
            "text/plain": [
              "<IPython.core.display.HTML object>"
            ]
          },
          "metadata": {
            "tags": []
          }
        },
        {
          "output_type": "stream",
          "text": [
            "Saving haberman.csv to haberman.csv\n"
          ],
          "name": "stdout"
        }
      ]
    },
    {
      "cell_type": "code",
      "metadata": {
        "id": "Hp-qaj1WVsRX"
      },
      "source": [
        "import numpy as np\n",
        "import pandas as pd\n",
        "import matplotlib.pyplot as plt\n",
        "import seaborn as sns\n",
        "\n",
        "from sklearn.model_selection import train_test_split\n",
        "from sklearn.linear_model import Lasso\n",
        "from sklearn import preprocessing"
      ],
      "execution_count": 2,
      "outputs": []
    },
    {
      "cell_type": "markdown",
      "metadata": {
        "id": "bZVgy4nzj1p9"
      },
      "source": [
        "# Loading The Data"
      ]
    },
    {
      "cell_type": "code",
      "metadata": {
        "id": "kEvvQYXDVuLR",
        "outputId": "fe3d98d1-ab56-4b04-e7f3-43d47aa32995",
        "colab": {
          "base_uri": "https://localhost:8080/",
          "height": 419
        }
      },
      "source": [
        "# Reading the data\n",
        "df = pd.read_csv('haberman.csv')\n",
        "display(df)"
      ],
      "execution_count": 12,
      "outputs": [
        {
          "output_type": "display_data",
          "data": {
            "text/html": [
              "<div>\n",
              "<style scoped>\n",
              "    .dataframe tbody tr th:only-of-type {\n",
              "        vertical-align: middle;\n",
              "    }\n",
              "\n",
              "    .dataframe tbody tr th {\n",
              "        vertical-align: top;\n",
              "    }\n",
              "\n",
              "    .dataframe thead th {\n",
              "        text-align: right;\n",
              "    }\n",
              "</style>\n",
              "<table border=\"1\" class=\"dataframe\">\n",
              "  <thead>\n",
              "    <tr style=\"text-align: right;\">\n",
              "      <th></th>\n",
              "      <th>X1</th>\n",
              "      <th>X2</th>\n",
              "      <th>X3</th>\n",
              "      <th>Y</th>\n",
              "    </tr>\n",
              "  </thead>\n",
              "  <tbody>\n",
              "    <tr>\n",
              "      <th>0</th>\n",
              "      <td>30</td>\n",
              "      <td>64</td>\n",
              "      <td>1</td>\n",
              "      <td>1</td>\n",
              "    </tr>\n",
              "    <tr>\n",
              "      <th>1</th>\n",
              "      <td>30</td>\n",
              "      <td>62</td>\n",
              "      <td>3</td>\n",
              "      <td>1</td>\n",
              "    </tr>\n",
              "    <tr>\n",
              "      <th>2</th>\n",
              "      <td>30</td>\n",
              "      <td>65</td>\n",
              "      <td>0</td>\n",
              "      <td>1</td>\n",
              "    </tr>\n",
              "    <tr>\n",
              "      <th>3</th>\n",
              "      <td>31</td>\n",
              "      <td>59</td>\n",
              "      <td>2</td>\n",
              "      <td>1</td>\n",
              "    </tr>\n",
              "    <tr>\n",
              "      <th>4</th>\n",
              "      <td>31</td>\n",
              "      <td>65</td>\n",
              "      <td>4</td>\n",
              "      <td>1</td>\n",
              "    </tr>\n",
              "    <tr>\n",
              "      <th>...</th>\n",
              "      <td>...</td>\n",
              "      <td>...</td>\n",
              "      <td>...</td>\n",
              "      <td>...</td>\n",
              "    </tr>\n",
              "    <tr>\n",
              "      <th>301</th>\n",
              "      <td>75</td>\n",
              "      <td>62</td>\n",
              "      <td>1</td>\n",
              "      <td>1</td>\n",
              "    </tr>\n",
              "    <tr>\n",
              "      <th>302</th>\n",
              "      <td>76</td>\n",
              "      <td>67</td>\n",
              "      <td>0</td>\n",
              "      <td>1</td>\n",
              "    </tr>\n",
              "    <tr>\n",
              "      <th>303</th>\n",
              "      <td>77</td>\n",
              "      <td>65</td>\n",
              "      <td>3</td>\n",
              "      <td>1</td>\n",
              "    </tr>\n",
              "    <tr>\n",
              "      <th>304</th>\n",
              "      <td>78</td>\n",
              "      <td>65</td>\n",
              "      <td>1</td>\n",
              "      <td>2</td>\n",
              "    </tr>\n",
              "    <tr>\n",
              "      <th>305</th>\n",
              "      <td>83</td>\n",
              "      <td>58</td>\n",
              "      <td>2</td>\n",
              "      <td>2</td>\n",
              "    </tr>\n",
              "  </tbody>\n",
              "</table>\n",
              "<p>306 rows × 4 columns</p>\n",
              "</div>"
            ],
            "text/plain": [
              "     X1  X2  X3  Y\n",
              "0    30  64   1  1\n",
              "1    30  62   3  1\n",
              "2    30  65   0  1\n",
              "3    31  59   2  1\n",
              "4    31  65   4  1\n",
              "..   ..  ..  .. ..\n",
              "301  75  62   1  1\n",
              "302  76  67   0  1\n",
              "303  77  65   3  1\n",
              "304  78  65   1  2\n",
              "305  83  58   2  2\n",
              "\n",
              "[306 rows x 4 columns]"
            ]
          },
          "metadata": {
            "tags": []
          }
        }
      ]
    },
    {
      "cell_type": "markdown",
      "metadata": {
        "id": "sZc-IR0Lj5EV"
      },
      "source": [
        "# EDA Of The Dataset"
      ]
    },
    {
      "cell_type": "code",
      "metadata": {
        "id": "K71oqvPJVx-_",
        "outputId": "d146fe17-4c85-4d32-f801-0426aacdd2ce",
        "colab": {
          "base_uri": "https://localhost:8080/",
          "height": 357
        }
      },
      "source": [
        "for col in df.columns.values:\n",
        "    \n",
        "    # Getting list of unique values in each column\n",
        "    unique_list = pd.unique(df[col])\n",
        "\n",
        "    print(\"Datatype of {} is: \".format(col), df[col].dtype)\n",
        "    print(\"Number of unique values for {} are: \".format(col), len(unique_list))\n",
        "\n",
        "    # Converting a column to a boolean array checking for null values\n",
        "    is_null = pd.isnull(df[col])\n",
        "\n",
        "    # Calculating total null values\n",
        "    total_null = np.sum(is_null)\n",
        "\n",
        "    print(\"Number of missing entries for {} are: \".format(col), total_null)\n",
        "    print(\"Number of non-missing entries for {} are: \".format(col), df[col].shape[0] - total_null)\n",
        "\n",
        "    print(\"---------------\")"
      ],
      "execution_count": 13,
      "outputs": [
        {
          "output_type": "stream",
          "text": [
            "Datatype of X1 is:  int64\n",
            "Number of unique values for X1 are:  49\n",
            "Number of missing entries for X1 are:  0\n",
            "Number of non-missing entries for X1 are:  306\n",
            "---------------\n",
            "Datatype of X2 is:  int64\n",
            "Number of unique values for X2 are:  12\n",
            "Number of missing entries for X2 are:  0\n",
            "Number of non-missing entries for X2 are:  306\n",
            "---------------\n",
            "Datatype of X3 is:  int64\n",
            "Number of unique values for X3 are:  31\n",
            "Number of missing entries for X3 are:  0\n",
            "Number of non-missing entries for X3 are:  306\n",
            "---------------\n",
            "Datatype of Y is:  int64\n",
            "Number of unique values for Y are:  2\n",
            "Number of missing entries for Y are:  0\n",
            "Number of non-missing entries for Y are:  306\n",
            "---------------\n"
          ],
          "name": "stdout"
        }
      ]
    },
    {
      "cell_type": "markdown",
      "metadata": {
        "id": "H7IG9wN_j8FQ"
      },
      "source": [
        "# Correlation Matrix"
      ]
    },
    {
      "cell_type": "code",
      "metadata": {
        "id": "H1g9pMGQVytk",
        "outputId": "a0196d9b-c282-45dc-e0a8-32e7f5a6e6d4",
        "colab": {
          "base_uri": "https://localhost:8080/",
          "height": 449
        }
      },
      "source": [
        "plt.figure(figsize = (15, 7))\n",
        "\n",
        "# Calculating correlation between all columns\n",
        "var_corr = df.corr()\n",
        "\n",
        "# Plotting correlation heatmap\n",
        "sns.heatmap(var_corr, xticklabels = var_corr.columns, yticklabels = var_corr.columns, annot = True, vmin=-1, vmax=1, center= 0) "
      ],
      "execution_count": 5,
      "outputs": [
        {
          "output_type": "execute_result",
          "data": {
            "text/plain": [
              "<matplotlib.axes._subplots.AxesSubplot at 0x7f1600568048>"
            ]
          },
          "metadata": {
            "tags": []
          },
          "execution_count": 5
        },
        {
          "output_type": "display_data",
          "data": {
            "image/png": "[encoded data removed]",
            "text/plain": [
              "<Figure size 1080x504 with 2 Axes>"
            ]
          },
          "metadata": {
            "tags": [],
            "needs_background": "light"
          }
        }
      ]
    },
    {
      "cell_type": "markdown",
      "metadata": {
        "id": "xtEcjMJsj-3M"
      },
      "source": [
        "# Preparing The Data (Pre-Processing)"
      ]
    },
    {
      "cell_type": "code",
      "metadata": {
        "id": "y4AamF0gXRNA",
        "outputId": "eb1db1b6-3a0f-4e2c-802d-320ac5ce987c",
        "colab": {
          "base_uri": "https://localhost:8080/",
          "height": 419
        }
      },
      "source": [
        "# Extracting the label column\n",
        "Y = df['Y']\n",
        "\n",
        "# Dropping the label column from the main dataset\n",
        "df = df.drop('Y', axis = 1)\n",
        "display(df)"
      ],
      "execution_count": 14,
      "outputs": [
        {
          "output_type": "display_data",
          "data": {
            "text/html": [
              "<div>\n",
              "<style scoped>\n",
              "    .dataframe tbody tr th:only-of-type {\n",
              "        vertical-align: middle;\n",
              "    }\n",
              "\n",
              "    .dataframe tbody tr th {\n",
              "        vertical-align: top;\n",
              "    }\n",
              "\n",
              "    .dataframe thead th {\n",
              "        text-align: right;\n",
              "    }\n",
              "</style>\n",
              "<table border=\"1\" class=\"dataframe\">\n",
              "  <thead>\n",
              "    <tr style=\"text-align: right;\">\n",
              "      <th></th>\n",
              "      <th>X1</th>\n",
              "      <th>X2</th>\n",
              "      <th>X3</th>\n",
              "    </tr>\n",
              "  </thead>\n",
              "  <tbody>\n",
              "    <tr>\n",
              "      <th>0</th>\n",
              "      <td>30</td>\n",
              "      <td>64</td>\n",
              "      <td>1</td>\n",
              "    </tr>\n",
              "    <tr>\n",
              "      <th>1</th>\n",
              "      <td>30</td>\n",
              "      <td>62</td>\n",
              "      <td>3</td>\n",
              "    </tr>\n",
              "    <tr>\n",
              "      <th>2</th>\n",
              "      <td>30</td>\n",
              "      <td>65</td>\n",
              "      <td>0</td>\n",
              "    </tr>\n",
              "    <tr>\n",
              "      <th>3</th>\n",
              "      <td>31</td>\n",
              "      <td>59</td>\n",
              "      <td>2</td>\n",
              "    </tr>\n",
              "    <tr>\n",
              "      <th>4</th>\n",
              "      <td>31</td>\n",
              "      <td>65</td>\n",
              "      <td>4</td>\n",
              "    </tr>\n",
              "    <tr>\n",
              "      <th>...</th>\n",
              "      <td>...</td>\n",
              "      <td>...</td>\n",
              "      <td>...</td>\n",
              "    </tr>\n",
              "    <tr>\n",
              "      <th>301</th>\n",
              "      <td>75</td>\n",
              "      <td>62</td>\n",
              "      <td>1</td>\n",
              "    </tr>\n",
              "    <tr>\n",
              "      <th>302</th>\n",
              "      <td>76</td>\n",
              "      <td>67</td>\n",
              "      <td>0</td>\n",
              "    </tr>\n",
              "    <tr>\n",
              "      <th>303</th>\n",
              "      <td>77</td>\n",
              "      <td>65</td>\n",
              "      <td>3</td>\n",
              "    </tr>\n",
              "    <tr>\n",
              "      <th>304</th>\n",
              "      <td>78</td>\n",
              "      <td>65</td>\n",
              "      <td>1</td>\n",
              "    </tr>\n",
              "    <tr>\n",
              "      <th>305</th>\n",
              "      <td>83</td>\n",
              "      <td>58</td>\n",
              "      <td>2</td>\n",
              "    </tr>\n",
              "  </tbody>\n",
              "</table>\n",
              "<p>306 rows × 3 columns</p>\n",
              "</div>"
            ],
            "text/plain": [
              "     X1  X2  X3\n",
              "0    30  64   1\n",
              "1    30  62   3\n",
              "2    30  65   0\n",
              "3    31  59   2\n",
              "4    31  65   4\n",
              "..   ..  ..  ..\n",
              "301  75  62   1\n",
              "302  76  67   0\n",
              "303  77  65   3\n",
              "304  78  65   1\n",
              "305  83  58   2\n",
              "\n",
              "[306 rows x 3 columns]"
            ]
          },
          "metadata": {
            "tags": []
          }
        }
      ]
    },
    {
      "cell_type": "code",
      "metadata": {
        "id": "CElDNnmnXX0W",
        "outputId": "20773de7-cb1c-4217-b84c-3e4f3439f921",
        "colab": {
          "base_uri": "https://localhost:8080/",
          "height": 51
        }
      },
      "source": [
        "# Converting the data into numpy arrays\n",
        "X = np.array(df)\n",
        "Y = np.array(Y)\n",
        "\n",
        "print(X.shape)\n",
        "print(Y.shape)"
      ],
      "execution_count": 15,
      "outputs": [
        {
          "output_type": "stream",
          "text": [
            "(306, 3)\n",
            "(306,)\n"
          ],
          "name": "stdout"
        }
      ]
    },
    {
      "cell_type": "markdown",
      "metadata": {
        "id": "iCk45SPFkHeV"
      },
      "source": [
        "# Train-Test Split Function"
      ]
    },
    {
      "cell_type": "code",
      "metadata": {
        "id": "pyh1vBUkXdLC"
      },
      "source": [
        "# Splitting the data into train and test sets\n",
        "def data_split(test_split = 0.2):\n",
        "    \n",
        "    X_train, X_test, Y_train, Y_test = train_test_split(X, Y, test_size = test_split, shuffle = True)\n",
        "    return X_train, X_test, Y_train, Y_test"
      ],
      "execution_count": 16,
      "outputs": []
    },
    {
      "cell_type": "markdown",
      "metadata": {
        "id": "k9t1AFRFkMf8"
      },
      "source": [
        "# Logistic Regression Function"
      ]
    },
    {
      "cell_type": "code",
      "metadata": {
        "id": "5DcX9sOLXg1s"
      },
      "source": [
        "from sklearn.linear_model import LogisticRegression\n",
        "\n",
        "'''\n",
        "A function to carry out logistic regression\n",
        "\n",
        "Here, C is a parameter which specifies the inverse of the regularization strength, in a sense\n",
        "So, smaller values of C lead to stronger regularization\n",
        "'''\n",
        "\n",
        "def logistic_regression(X, Y, reg_inverse = 1.0, penalty = 'l2'):\n",
        "\n",
        "    clf = LogisticRegression(penalty = penalty, C = reg_inverse).fit(X, Y)\n",
        "    return clf"
      ],
      "execution_count": 17,
      "outputs": []
    },
    {
      "cell_type": "markdown",
      "metadata": {
        "id": "B5q0vIkikSi7"
      },
      "source": [
        "# Classification Error Function"
      ]
    },
    {
      "cell_type": "code",
      "metadata": {
        "id": "V-r9gycneX5C"
      },
      "source": [
        "def classification_error(Y_pred, Y_actual):\n",
        "\n",
        "    # Total test values\n",
        "    total_entries = len(Y_pred)\n",
        "    \n",
        "    # Number of values wrongly predicted by the model\n",
        "    wrong_values = 0\n",
        "    \n",
        "    for i in range(total_entries):\n",
        "\n",
        "        if Y_pred[i] != Y_actual[i]:\n",
        "            wrong_values += 1\n",
        "\n",
        "    error = float(wrong_values)/float(total_entries)\n",
        "    return error"
      ],
      "execution_count": 25,
      "outputs": []
    },
    {
      "cell_type": "markdown",
      "metadata": {
        "id": "VmJ4T2DHkZuW"
      },
      "source": [
        "# Logistic Regression With Varying Train-Test Splits And Regularization Strength"
      ]
    },
    {
      "cell_type": "code",
      "metadata": {
        "id": "OX_5QM7GaCLh",
        "outputId": "8259d2a7-02c6-49bf-eb7b-859f04f02fc3",
        "colab": {
          "base_uri": "https://localhost:8080/",
          "height": 1000
        }
      },
      "source": [
        "# Possible train-test splits\n",
        "test_splits = [0.1, 0.2, 0.3, 0.4]\n",
        "\n",
        "# Possible values of the inverse of the regularization strength\n",
        "reg_inverse_values = [0.01, 0.03, 0.1, 0.3, 1, 3, 10, 30]\n",
        "\n",
        "for test_split in test_splits:\n",
        "\n",
        "    for reg_inverse_value in reg_inverse_values:\n",
        "\n",
        "        print(f\"Test Split Value: {test_split}\")\n",
        "        print(f\"Regularization Strength: {1/reg_inverse_value}\")\n",
        "        \n",
        "        X_train, X_test, Y_train, Y_test = data_split(test_split = test_split)\n",
        "        \n",
        "        # Normalizing the different features in the data\n",
        "        X_train = preprocessing.scale(X_train)\n",
        "        X_test = preprocessing.scale(X_test)\n",
        "        \n",
        "        # Fitting the data to the logistic regression model\n",
        "        clf = logistic_regression(X_train, Y_train)\n",
        "        \n",
        "        # Extract the coefficients of the trained logistic model\n",
        "        coef = clf.coef_\n",
        "\n",
        "        # Extract the intercept of the trained logistic model\n",
        "        intercept = clf.intercept_\n",
        "\n",
        "        print(f\"Coefficients of the trained logistic model are: {coef}\")\n",
        "        print(f\"Intercept of the trained logistic model is: {intercept}\")\n",
        "\n",
        "        # Carrying out predictions on the test data\n",
        "        Y_pred = clf.predict(X_test)\n",
        "        print(f\"The predicted survival status of the patients in the test dataset sre: {Y_pred}\")\n",
        "\n",
        "        # Computing the error in the predicted values\n",
        "        error = classification_error(Y_pred, Y_test)\n",
        "        print(f\"The classification error in the test data prediction is: {error} \\n\")\n",
        "\n",
        "        print(\"----------\\n\")"
      ],
      "execution_count": 44,
      "outputs": [
        {
          "output_type": "stream",
          "text": [
            "Test Split Value: 0.1\n",
            "Regularization Strength: 100.0\n",
            "Coefficients of the trained logistic model are: [[0.11187292 0.08419266 0.71059805]]\n",
            "Intercept of the trained logistic model is: [-1.10316544]\n",
            "The predicted survival status of the patients in the test dataset sre: [1 1 1 1 1 1 1 1 1 1 1 1 1 1 1 1 1 2 1 1 1 1 1 1 1 1 1 1 1 2 1]\n",
            "The classification error in the test data prediction is: 0.2903225806451613 \n",
            "\n",
            "----------\n",
            "\n",
            "Test Split Value: 0.1\n",
            "Regularization Strength: 33.333333333333336\n",
            "Coefficients of the trained logistic model are: [[ 0.23438938 -0.00409387  0.5564721 ]]\n",
            "Intercept of the trained logistic model is: [-1.10451574]\n",
            "The predicted survival status of the patients in the test dataset sre: [1 1 1 2 1 1 1 1 1 1 1 1 1 1 1 1 1 1 1 1 1 1 1 1 1 2 1 1 1 1 1]\n",
            "The classification error in the test data prediction is: 0.3225806451612903 \n",
            "\n",
            "----------\n",
            "\n",
            "Test Split Value: 0.1\n",
            "Regularization Strength: 10.0\n",
            "Coefficients of the trained logistic model are: [[ 0.21449959 -0.07620136  0.7280304 ]]\n",
            "Intercept of the trained logistic model is: [-1.01407843]\n",
            "The predicted survival status of the patients in the test dataset sre: [1 1 1 1 1 1 1 1 1 1 1 1 2 1 1 2 1 2 1 1 1 1 1 1 1 1 1 1 1 1 1]\n",
            "The classification error in the test data prediction is: 0.1935483870967742 \n",
            "\n",
            "----------\n",
            "\n",
            "Test Split Value: 0.1\n",
            "Regularization Strength: 3.3333333333333335\n",
            "Coefficients of the trained logistic model are: [[ 0.14980152 -0.05937622  0.64709766]]\n",
            "Intercept of the trained logistic model is: [-1.10671019]\n",
            "The predicted survival status of the patients in the test dataset sre: [1 1 1 1 1 1 1 1 1 1 1 1 1 1 1 1 1 1 2 2 1 1 1 2 1 1 2 1 1 1 1]\n",
            "The classification error in the test data prediction is: 0.25806451612903225 \n",
            "\n",
            "----------\n",
            "\n",
            "Test Split Value: 0.1\n",
            "Regularization Strength: 1.0\n",
            "Coefficients of the trained logistic model are: [[ 0.22164779 -0.02337203  0.60471245]]\n",
            "Intercept of the trained logistic model is: [-1.0714687]\n",
            "The predicted survival status of the patients in the test dataset sre: [1 1 1 1 1 1 1 1 1 1 1 1 1 1 1 1 1 1 1 1 2 2 1 1 1 1 1 1 1 1 1]\n",
            "The classification error in the test data prediction is: 0.1935483870967742 \n",
            "\n",
            "----------\n",
            "\n",
            "Test Split Value: 0.1\n",
            "Regularization Strength: 0.3333333333333333\n",
            "Coefficients of the trained logistic model are: [[ 0.20488122 -0.01050803  0.59028883]]\n",
            "Intercept of the trained logistic model is: [-1.04826331]\n",
            "The predicted survival status of the patients in the test dataset sre: [1 1 1 1 1 1 1 1 1 2 1 2 1 1 1 1 1 1 1 1 1 1 1 1 1 1 1 1 1 1 1]\n",
            "The classification error in the test data prediction is: 0.16129032258064516 \n",
            "\n",
            "----------\n",
            "\n",
            "Test Split Value: 0.1\n",
            "Regularization Strength: 0.1\n",
            "Coefficients of the trained logistic model are: [[ 0.25044025 -0.01718675  0.60456009]]\n",
            "Intercept of the trained logistic model is: [-1.11510253]\n",
            "The predicted survival status of the patients in the test dataset sre: [2 1 1 1 1 1 1 1 1 1 1 1 1 1 1 1 1 2 1 1 1 1 1 1 1 1 1 1 1 1 1]\n",
            "The classification error in the test data prediction is: 0.3225806451612903 \n",
            "\n",
            "----------\n",
            "\n",
            "Test Split Value: 0.1\n",
            "Regularization Strength: 0.03333333333333333\n",
            "Coefficients of the trained logistic model are: [[0.18992474 0.00076555 0.58996784]]\n",
            "Intercept of the trained logistic model is: [-1.10758379]\n",
            "The predicted survival status of the patients in the test dataset sre: [1 1 1 1 1 1 1 1 1 1 1 1 1 1 1 1 1 2 2 1 1 1 1 1 1 1 1 1 1 1 1]\n",
            "The classification error in the test data prediction is: 0.3225806451612903 \n",
            "\n",
            "----------\n",
            "\n",
            "Test Split Value: 0.2\n",
            "Regularization Strength: 100.0\n",
            "Coefficients of the trained logistic model are: [[ 0.28994487 -0.057804    0.63872723]]\n",
            "Intercept of the trained logistic model is: [-1.12390708]\n",
            "The predicted survival status of the patients in the test dataset sre: [1 1 1 1 1 1 1 1 1 1 1 1 1 1 1 1 1 1 1 1 1 1 1 1 1 1 1 1 1 1 1 1 1 2 1 1 1\n",
            " 1 1 1 1 1 1 2 1 1 1 1 1 1 1 1 1 1 1 1 2 2 1 1 1 1]\n",
            "The classification error in the test data prediction is: 0.2903225806451613 \n",
            "\n",
            "----------\n",
            "\n",
            "Test Split Value: 0.2\n",
            "Regularization Strength: 33.333333333333336\n",
            "Coefficients of the trained logistic model are: [[ 0.21614694 -0.13430949  0.61141644]]\n",
            "Intercept of the trained logistic model is: [-0.95585559]\n",
            "The predicted survival status of the patients in the test dataset sre: [1 1 1 1 1 1 1 1 1 1 1 2 1 1 1 1 1 1 2 1 1 1 1 1 1 1 1 1 1 1 1 1 1 1 1 1 1\n",
            " 1 1 1 1 1 1 1 1 1 1 1 2 1 2 1 1 1 1 1 1 1 1 2 2 1]\n",
            "The classification error in the test data prediction is: 0.1774193548387097 \n",
            "\n",
            "----------\n",
            "\n",
            "Test Split Value: 0.2\n",
            "Regularization Strength: 10.0\n",
            "Coefficients of the trained logistic model are: [[ 0.22445974 -0.0470973   0.51219368]]\n",
            "Intercept of the trained logistic model is: [-1.17557612]\n",
            "The predicted survival status of the patients in the test dataset sre: [1 1 1 1 1 1 1 2 1 1 1 1 1 1 1 1 1 1 1 1 1 1 2 1 1 1 1 1 2 1 1 1 1 1 1 1 1\n",
            " 1 1 1 1 1 1 1 1 1 1 1 1 1 1 1 1 1 1 1 1 1 1 1 1 1]\n",
            "The classification error in the test data prediction is: 0.2903225806451613 \n",
            "\n",
            "----------\n",
            "\n",
            "Test Split Value: 0.2\n",
            "Regularization Strength: 3.3333333333333335\n",
            "Coefficients of the trained logistic model are: [[ 0.25136593 -0.0928204   0.50910051]]\n",
            "Intercept of the trained logistic model is: [-1.01937524]\n",
            "The predicted survival status of the patients in the test dataset sre: [1 1 1 2 1 1 1 1 1 1 1 1 1 1 1 1 1 1 1 1 1 1 1 1 1 1 1 1 1 1 1 1 1 1 1 1 1\n",
            " 1 1 1 1 1 1 1 1 1 1 1 1 1 1 1 1 1 1 1 1 1 1 1 1 1]\n",
            "The classification error in the test data prediction is: 0.20967741935483872 \n",
            "\n",
            "----------\n",
            "\n",
            "Test Split Value: 0.2\n",
            "Regularization Strength: 1.0\n",
            "Coefficients of the trained logistic model are: [[0.25350175 0.0158121  0.55792842]]\n",
            "Intercept of the trained logistic model is: [-1.09018972]\n",
            "The predicted survival status of the patients in the test dataset sre: [2 1 1 1 1 1 1 1 1 2 1 1 1 2 1 1 1 1 1 1 1 1 1 1 1 1 1 1 1 1 1 1 1 1 1 1 1\n",
            " 1 1 1 1 1 1 1 1 1 1 1 1 1 1 2 1 1 1 1 1 1 1 1 1 1]\n",
            "The classification error in the test data prediction is: 0.27419354838709675 \n",
            "\n",
            "----------\n",
            "\n",
            "Test Split Value: 0.2\n",
            "Regularization Strength: 0.3333333333333333\n",
            "Coefficients of the trained logistic model are: [[ 0.25246135 -0.03315275  0.89753826]]\n",
            "Intercept of the trained logistic model is: [-1.16698768]\n",
            "The predicted survival status of the patients in the test dataset sre: [1 1 1 1 1 1 1 1 2 2 1 1 1 1 1 1 1 1 1 1 1 1 1 2 1 1 1 1 1 1 1 1 1 1 1 1 1\n",
            " 1 2 1 1 1 1 1 1 2 1 1 1 1 1 1 1 1 2 1 1 1 1 1 1 1]\n",
            "The classification error in the test data prediction is: 0.3064516129032258 \n",
            "\n",
            "----------\n",
            "\n",
            "Test Split Value: 0.2\n",
            "Regularization Strength: 0.1\n",
            "Coefficients of the trained logistic model are: [[ 0.29059386 -0.10063004  0.83335666]]\n",
            "Intercept of the trained logistic model is: [-1.14786682]\n",
            "The predicted survival status of the patients in the test dataset sre: [1 1 1 2 1 1 1 1 1 1 1 1 1 1 1 1 1 1 1 1 1 1 1 1 1 1 1 1 1 1 2 1 1 1 1 1 1\n",
            " 1 1 1 1 1 1 1 2 1 1 1 1 1 1 2 1 1 1 1 2 1 1 1 1 1]\n",
            "The classification error in the test data prediction is: 0.3387096774193548 \n",
            "\n",
            "----------\n",
            "\n",
            "Test Split Value: 0.2\n",
            "Regularization Strength: 0.03333333333333333\n",
            "Coefficients of the trained logistic model are: [[ 0.24979383 -0.00552772  0.64646384]]\n",
            "Intercept of the trained logistic model is: [-1.20197974]\n",
            "The predicted survival status of the patients in the test dataset sre: [1 1 1 1 1 1 2 1 1 1 1 1 2 1 1 1 1 1 1 1 1 1 1 1 1 1 1 1 1 1 1 1 1 1 2 1 1\n",
            " 1 1 1 1 1 1 1 1 1 1 1 1 1 1 1 1 1 1 1 1 1 1 1 1 1]\n",
            "The classification error in the test data prediction is: 0.3225806451612903 \n",
            "\n",
            "----------\n",
            "\n",
            "Test Split Value: 0.3\n",
            "Regularization Strength: 100.0\n",
            "Coefficients of the trained logistic model are: [[0.16655624 0.11395569 0.53898119]]\n",
            "Intercept of the trained logistic model is: [-1.08567127]\n",
            "The predicted survival status of the patients in the test dataset sre: [1 1 1 1 1 1 1 1 1 1 1 1 1 1 1 2 1 1 1 1 1 1 1 1 1 1 1 1 1 1 1 1 1 1 2 1 1\n",
            " 1 1 1 1 1 1 1 1 1 1 1 1 1 1 1 1 1 1 1 1 1 1 1 1 1 2 1 1 1 1 1 1 1 1 1 1 1\n",
            " 1 2 1 1 1 1 1 2 1 1 1 2 1 1 1 1 1 1]\n",
            "The classification error in the test data prediction is: 0.25 \n",
            "\n",
            "----------\n",
            "\n",
            "Test Split Value: 0.3\n",
            "Regularization Strength: 33.333333333333336\n",
            "Coefficients of the trained logistic model are: [[ 0.17069742 -0.07403546  0.55296779]]\n",
            "Intercept of the trained logistic model is: [-1.1330808]\n",
            "The predicted survival status of the patients in the test dataset sre: [1 1 1 1 1 1 1 1 1 1 1 1 1 1 1 1 1 1 1 1 1 1 1 1 1 2 1 1 1 1 1 1 1 1 1 1 1\n",
            " 1 1 1 1 1 1 1 1 1 1 1 1 1 1 1 1 1 1 1 1 1 1 1 1 1 1 1 1 2 1 1 1 1 1 1 1 1\n",
            " 2 2 1 1 1 1 1 1 1 1 1 1 1 1 1 1 1 1]\n",
            "The classification error in the test data prediction is: 0.2717391304347826 \n",
            "\n",
            "----------\n",
            "\n",
            "Test Split Value: 0.3\n",
            "Regularization Strength: 10.0\n",
            "Coefficients of the trained logistic model are: [[ 0.19071336 -0.00474813  0.58978816]]\n",
            "Intercept of the trained logistic model is: [-0.96369174]\n",
            "The predicted survival status of the patients in the test dataset sre: [1 1 1 1 1 1 1 1 1 1 1 1 1 1 1 1 2 1 2 1 1 1 1 1 1 2 1 1 1 1 1 1 1 1 1 1 1\n",
            " 1 2 1 1 1 1 1 1 1 1 1 1 1 1 1 1 1 2 1 1 1 1 1 1 1 1 1 1 1 1 2 1 1 1 1 1 1\n",
            " 2 1 1 1 1 1 1 1 1 1 1 2 1 2 1 1 1 1]\n",
            "The classification error in the test data prediction is: 0.20652173913043478 \n",
            "\n",
            "----------\n",
            "\n",
            "Test Split Value: 0.3\n",
            "Regularization Strength: 3.3333333333333335\n",
            "Coefficients of the trained logistic model are: [[ 0.30914787 -0.09804973  0.87077887]]\n",
            "Intercept of the trained logistic model is: [-1.01015316]\n",
            "The predicted survival status of the patients in the test dataset sre: [2 1 1 1 1 1 1 1 1 1 1 1 1 2 1 1 1 2 1 1 1 1 1 1 1 2 1 1 1 1 1 1 1 1 1 1 1\n",
            " 1 1 1 1 1 1 1 1 2 1 1 1 1 1 1 1 1 2 1 1 1 1 1 1 1 1 1 1 1 2 1 1 1 1 1 1 1\n",
            " 1 1 2 1 2 1 1 1 1 1 1 1 1 1 1 1 1 2]\n",
            "The classification error in the test data prediction is: 0.25 \n",
            "\n",
            "----------\n",
            "\n",
            "Test Split Value: 0.3\n",
            "Regularization Strength: 1.0\n",
            "Coefficients of the trained logistic model are: [[0.36830861 0.01129919 0.42187573]]\n",
            "Intercept of the trained logistic model is: [-1.27664364]\n",
            "The predicted survival status of the patients in the test dataset sre: [1 1 1 1 1 1 1 1 1 1 1 1 1 1 1 1 1 1 1 1 1 1 1 1 1 1 2 1 1 1 1 1 1 1 1 1 1\n",
            " 1 1 1 1 1 1 1 1 1 1 1 1 1 1 1 1 1 1 1 1 2 1 1 1 1 1 1 1 1 1 1 1 1 1 1 1 1\n",
            " 1 1 1 1 1 1 1 1 1 1 1 1 1 1 1 1 1 1]\n",
            "The classification error in the test data prediction is: 0.32608695652173914 \n",
            "\n",
            "----------\n",
            "\n",
            "Test Split Value: 0.3\n",
            "Regularization Strength: 0.3333333333333333\n",
            "Coefficients of the trained logistic model are: [[ 0.31660027 -0.1501184   0.59271264]]\n",
            "Intercept of the trained logistic model is: [-1.21274476]\n",
            "The predicted survival status of the patients in the test dataset sre: [1 1 1 1 1 1 2 1 2 1 1 1 1 1 1 1 1 1 1 1 1 1 1 1 1 1 1 1 1 1 1 1 1 1 1 1 1\n",
            " 1 1 1 1 1 1 1 1 2 1 1 1 1 1 1 1 1 1 1 1 1 1 1 1 2 1 1 2 1 1 1 1 1 1 1 1 1\n",
            " 1 1 1 1 1 1 1 1 1 1 1 1 1 2 1 1 1 1]\n",
            "The classification error in the test data prediction is: 0.31521739130434784 \n",
            "\n",
            "----------\n",
            "\n",
            "Test Split Value: 0.3\n",
            "Regularization Strength: 0.1\n",
            "Coefficients of the trained logistic model are: [[ 0.27792669 -0.23633751  0.65296051]]\n",
            "Intercept of the trained logistic model is: [-1.0849018]\n",
            "The predicted survival status of the patients in the test dataset sre: [2 1 1 1 1 1 1 1 1 1 1 1 1 1 1 1 1 1 1 1 1 1 1 1 1 1 1 2 2 1 1 1 1 1 1 1 1\n",
            " 1 1 1 1 1 1 1 1 1 1 1 1 2 1 1 1 1 1 1 2 1 1 1 1 1 1 2 1 1 1 1 1 1 1 1 1 2\n",
            " 1 1 1 1 1 1 1 1 1 1 2 1 1 1 1 1 1 1]\n",
            "The classification error in the test data prediction is: 0.2608695652173913 \n",
            "\n",
            "----------\n",
            "\n",
            "Test Split Value: 0.3\n",
            "Regularization Strength: 0.03333333333333333\n",
            "Coefficients of the trained logistic model are: [[0.16135801 0.00204151 0.61406529]]\n",
            "Intercept of the trained logistic model is: [-1.01939177]\n",
            "The predicted survival status of the patients in the test dataset sre: [1 1 1 1 1 2 1 1 1 1 1 1 1 1 1 1 1 1 1 1 1 1 1 1 1 1 1 1 1 1 1 1 1 1 1 1 1\n",
            " 1 2 2 1 1 1 1 1 1 1 2 1 1 2 2 1 1 1 1 1 1 1 1 1 1 1 1 1 1 1 1 1 1 1 1 1 1\n",
            " 1 1 1 1 1 1 1 1 1 1 1 1 1 1 1 1 1 1]\n",
            "The classification error in the test data prediction is: 0.2391304347826087 \n",
            "\n",
            "----------\n",
            "\n",
            "Test Split Value: 0.4\n",
            "Regularization Strength: 100.0\n",
            "Coefficients of the trained logistic model are: [[0.38470609 0.23726293 1.07208888]]\n",
            "Intercept of the trained logistic model is: [-0.91850048]\n",
            "The predicted survival status of the patients in the test dataset sre: [1 1 1 1 1 2 1 1 1 1 1 1 1 1 1 1 1 1 1 1 1 1 1 1 1 1 1 1 1 1 1 1 1 1 1 1 2\n",
            " 1 1 1 1 1 2 1 2 1 1 1 2 2 1 1 1 1 1 1 1 1 1 1 1 1 1 2 2 1 1 1 1 1 1 1 1 1\n",
            " 1 1 2 1 1 1 1 1 1 2 1 1 2 1 2 1 1 1 1 1 2 1 1 1 1 1 1 1 1 1 2 1 1 2 1 1 1\n",
            " 1 1 2 1 1 1 1 1 1 1 1 1]\n",
            "The classification error in the test data prediction is: 0.24390243902439024 \n",
            "\n",
            "----------\n",
            "\n",
            "Test Split Value: 0.4\n",
            "Regularization Strength: 33.333333333333336\n",
            "Coefficients of the trained logistic model are: [[ 0.258139   -0.19249847  0.62240196]]\n",
            "Intercept of the trained logistic model is: [-0.97228521]\n",
            "The predicted survival status of the patients in the test dataset sre: [1 1 1 1 1 1 1 1 1 1 1 2 1 1 1 1 1 1 1 1 1 1 1 1 2 1 1 1 1 1 1 1 1 1 1 1 1\n",
            " 1 1 1 1 1 1 1 1 1 1 2 1 1 1 1 1 1 1 1 1 1 1 2 1 2 1 1 1 1 1 1 1 1 1 1 1 1\n",
            " 1 1 2 1 1 2 1 1 1 1 1 1 1 1 1 1 1 1 2 1 1 1 1 1 2 2 1 1 1 1 2 1 1 1 1 1 1\n",
            " 1 1 1 1 1 2 1 1 1 1 1 1]\n",
            "The classification error in the test data prediction is: 0.21951219512195122 \n",
            "\n",
            "----------\n",
            "\n",
            "Test Split Value: 0.4\n",
            "Regularization Strength: 10.0\n",
            "Coefficients of the trained logistic model are: [[0.23885209 0.10751951 0.69166328]]\n",
            "Intercept of the trained logistic model is: [-0.98331917]\n",
            "The predicted survival status of the patients in the test dataset sre: [1 1 1 1 1 1 1 1 1 2 1 1 2 1 1 1 1 1 1 1 1 1 1 1 1 1 1 1 1 1 2 1 1 1 2 1 1\n",
            " 1 1 1 1 1 1 1 2 1 1 2 1 1 1 1 1 1 1 2 1 1 1 1 1 1 1 1 1 1 1 1 1 1 1 1 1 1\n",
            " 1 1 1 1 1 1 1 1 1 2 1 1 1 1 1 1 1 1 1 1 1 2 1 1 1 1 1 1 1 2 1 1 1 1 1 1 1\n",
            " 1 1 1 1 1 1 2 1 1 1 1 1]\n",
            "The classification error in the test data prediction is: 0.21138211382113822 \n",
            "\n",
            "----------\n",
            "\n",
            "Test Split Value: 0.4\n",
            "Regularization Strength: 3.3333333333333335\n",
            "Coefficients of the trained logistic model are: [[ 0.11329059 -0.03383233  0.50579293]]\n",
            "Intercept of the trained logistic model is: [-1.12699669]\n",
            "The predicted survival status of the patients in the test dataset sre: [1 1 1 1 1 1 1 1 1 1 1 1 1 1 1 1 1 1 1 1 2 1 1 1 1 1 1 1 1 1 2 1 1 1 1 1 2\n",
            " 1 1 1 1 1 1 1 1 1 1 1 1 1 1 1 1 1 1 1 1 1 1 1 1 1 1 1 1 1 1 1 1 1 1 1 1 1\n",
            " 1 1 1 1 1 1 1 1 1 1 1 2 2 1 1 1 1 1 1 1 1 1 1 1 1 1 1 1 1 1 1 1 1 1 1 1 1\n",
            " 1 2 1 1 1 1 1 2 1 1 1 1]\n",
            "The classification error in the test data prediction is: 0.2764227642276423 \n",
            "\n",
            "----------\n",
            "\n",
            "Test Split Value: 0.4\n",
            "Regularization Strength: 1.0\n",
            "Coefficients of the trained logistic model are: [[ 0.17888977 -0.07286999  0.68149662]]\n",
            "Intercept of the trained logistic model is: [-1.10496723]\n",
            "The predicted survival status of the patients in the test dataset sre: [1 1 1 1 1 1 1 1 1 1 1 1 1 1 2 1 1 1 1 1 1 1 2 1 1 1 1 1 1 1 1 1 1 2 1 1 1\n",
            " 1 1 1 1 1 1 1 2 1 1 1 1 1 2 1 1 1 1 1 1 1 1 1 1 1 1 1 1 1 1 1 1 1 1 1 1 1\n",
            " 1 1 1 1 2 1 1 1 1 1 1 1 1 1 1 2 1 1 1 1 1 1 1 1 1 1 1 1 1 1 1 1 1 1 1 1 1\n",
            " 1 1 1 1 1 1 1 1 1 1 1 1]\n",
            "The classification error in the test data prediction is: 0.2764227642276423 \n",
            "\n",
            "----------\n",
            "\n",
            "Test Split Value: 0.4\n",
            "Regularization Strength: 0.3333333333333333\n",
            "Coefficients of the trained logistic model are: [[0.15212805 0.04956448 0.62398601]]\n",
            "Intercept of the trained logistic model is: [-1.1117979]\n",
            "The predicted survival status of the patients in the test dataset sre: [1 1 1 1 1 1 1 1 1 1 1 1 1 1 1 1 1 1 1 2 1 1 1 1 1 1 1 1 1 2 1 1 1 1 1 1 1\n",
            " 1 1 1 1 1 1 1 1 1 2 1 1 1 1 1 1 1 1 1 1 1 1 1 1 1 2 1 1 2 1 1 1 1 1 1 1 1\n",
            " 1 1 1 1 1 2 1 1 2 1 1 1 1 1 1 1 2 1 1 1 1 1 2 1 1 1 1 2 1 1 1 1 1 1 1 1 1\n",
            " 1 1 1 1 1 1 1 1 1 1 1 1]\n",
            "The classification error in the test data prediction is: 0.2764227642276423 \n",
            "\n",
            "----------\n",
            "\n",
            "Test Split Value: 0.4\n",
            "Regularization Strength: 0.1\n",
            "Coefficients of the trained logistic model are: [[0.28698741 0.08189882 0.65630502]]\n",
            "Intercept of the trained logistic model is: [-1.0406894]\n",
            "The predicted survival status of the patients in the test dataset sre: [1 2 1 1 1 1 1 1 1 1 1 2 1 1 1 1 1 1 1 1 1 1 1 1 1 1 1 1 1 1 1 1 1 1 2 1 1\n",
            " 1 1 1 1 1 1 1 1 1 1 1 1 1 2 1 1 2 1 1 2 1 1 1 1 1 1 1 1 1 1 2 1 1 1 1 1 1\n",
            " 1 1 1 2 1 1 1 1 1 1 1 1 1 1 1 1 1 1 1 1 1 1 1 1 1 2 1 1 1 1 1 1 2 1 1 1 1\n",
            " 1 1 1 1 1 1 1 1 1 1 1 1]\n",
            "The classification error in the test data prediction is: 0.23577235772357724 \n",
            "\n",
            "----------\n",
            "\n",
            "Test Split Value: 0.4\n",
            "Regularization Strength: 0.03333333333333333\n",
            "Coefficients of the trained logistic model are: [[ 0.22387943 -0.03846412  0.51032275]]\n",
            "Intercept of the trained logistic model is: [-1.17234946]\n",
            "The predicted survival status of the patients in the test dataset sre: [1 1 1 1 1 1 1 1 2 1 1 1 1 1 1 1 1 1 1 1 1 1 2 1 1 1 1 1 1 1 1 1 2 1 1 1 1\n",
            " 1 1 1 1 1 1 1 1 1 1 1 1 1 1 1 1 1 1 1 1 1 1 1 1 1 1 1 1 1 1 1 1 2 1 1 1 1\n",
            " 1 2 1 1 1 1 1 1 2 1 2 1 1 1 1 1 1 1 1 1 1 1 1 1 1 1 1 1 1 1 1 1 1 1 2 1 1\n",
            " 1 1 1 1 1 1 1 1 1 1 1 2]\n",
            "The classification error in the test data prediction is: 0.2682926829268293 \n",
            "\n",
            "----------\n",
            "\n"
          ],
          "name": "stdout"
        }
      ]
    },
    {
      "cell_type": "markdown",
      "metadata": {
        "id": "FYtw6bq4i3Va"
      },
      "source": [
        "# Result:\n",
        "\n",
        "The best model obtained out of the tried combinations of the train-test splits and the regularization strength is the one with a train and test split of 90:10 and regularization strength of 0.33 with a classification error of 0.16 (or 84% accuracy approximately) on the test set"
      ]
    },
    {
      "cell_type": "code",
      "metadata": {
        "id": "Nb62qg8IgpWJ"
      },
      "source": [
        ""
      ],
      "execution_count": null,
      "outputs": []
    }
  ]
}