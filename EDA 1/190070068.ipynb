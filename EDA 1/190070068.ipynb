{
  "nbformat": 4,
  "nbformat_minor": 0,
  "metadata": {
    "colab": {
      "name": "Assignment-3-Q1.ipynb",
      "provenance": [],
      "collapsed_sections": []
    },
    "kernelspec": {
      "name": "python3",
      "display_name": "Python 3"
    }
  },
  "cells": [
    {
      "cell_type": "code",
      "metadata": {
        "id": "LQ3NE-OCXy66",
        "colab_type": "code",
        "colab": {}
      },
      "source": [
        "import pandas as pd\n",
        "import numpy as np"
      ],
      "execution_count": 23,
      "outputs": []
    },
    {
      "cell_type": "markdown",
      "metadata": {
        "id": "27iHUkfTcYda",
        "colab_type": "text"
      },
      "source": [
        "# MSFT Dataset"
      ]
    },
    {
      "cell_type": "code",
      "metadata": {
        "id": "Z8vWxg_EYaGK",
        "colab_type": "code",
        "colab": {}
      },
      "source": [
        "with open('drive/My Drive/MSFT_data.csv', 'r') as fin:\n",
        "    data = fin.read().splitlines(True)\n",
        "with open('drive/My Drive/MSFT_data_new.csv', 'w') as fout:\n",
        "    fout.writelines(data[14:])"
      ],
      "execution_count": 52,
      "outputs": []
    },
    {
      "cell_type": "code",
      "metadata": {
        "id": "kXH89Qu6W6Od",
        "colab_type": "code",
        "colab": {}
      },
      "source": [
        "filepath = \"drive/My Drive/MSFT_data_new.csv\"\n",
        "\n",
        "data = pd.read_csv(filepath)"
      ],
      "execution_count": 53,
      "outputs": []
    },
    {
      "cell_type": "code",
      "metadata": {
        "id": "F-8f0IWiYuj5",
        "colab_type": "code",
        "colab": {
          "base_uri": "https://localhost:8080/",
          "height": 204
        },
        "outputId": "fee79c11-ea65-48af-c505-41836c4226b6"
      },
      "source": [
        "data.head()"
      ],
      "execution_count": 54,
      "outputs": [
        {
          "output_type": "execute_result",
          "data": {
            "text/html": [
              "<div>\n",
              "<style scoped>\n",
              "    .dataframe tbody tr th:only-of-type {\n",
              "        vertical-align: middle;\n",
              "    }\n",
              "\n",
              "    .dataframe tbody tr th {\n",
              "        vertical-align: top;\n",
              "    }\n",
              "\n",
              "    .dataframe thead th {\n",
              "        text-align: right;\n",
              "    }\n",
              "</style>\n",
              "<table border=\"1\" class=\"dataframe\">\n",
              "  <thead>\n",
              "    <tr style=\"text-align: right;\">\n",
              "      <th></th>\n",
              "      <th>date</th>\n",
              "      <th>open</th>\n",
              "      <th>high</th>\n",
              "      <th>low</th>\n",
              "      <th>close</th>\n",
              "      <th>volume</th>\n",
              "    </tr>\n",
              "  </thead>\n",
              "  <tbody>\n",
              "    <tr>\n",
              "      <th>0</th>\n",
              "      <td>1986-03-13</td>\n",
              "      <td>0.0577</td>\n",
              "      <td>0.0662</td>\n",
              "      <td>0.0577</td>\n",
              "      <td>0.0633</td>\n",
              "      <td>1031788800</td>\n",
              "    </tr>\n",
              "    <tr>\n",
              "      <th>1</th>\n",
              "      <td>1986-03-14</td>\n",
              "      <td>0.0633</td>\n",
              "      <td>0.0667</td>\n",
              "      <td>0.0633</td>\n",
              "      <td>0.0656</td>\n",
              "      <td>308160000</td>\n",
              "    </tr>\n",
              "    <tr>\n",
              "      <th>2</th>\n",
              "      <td>1986-03-17</td>\n",
              "      <td>0.0656</td>\n",
              "      <td>0.0673</td>\n",
              "      <td>0.0656</td>\n",
              "      <td>0.0667</td>\n",
              "      <td>133171200</td>\n",
              "    </tr>\n",
              "    <tr>\n",
              "      <th>3</th>\n",
              "      <td>1986-03-18</td>\n",
              "      <td>0.0667</td>\n",
              "      <td>0.0673</td>\n",
              "      <td>0.0645</td>\n",
              "      <td>0.0650</td>\n",
              "      <td>67766400</td>\n",
              "    </tr>\n",
              "    <tr>\n",
              "      <th>4</th>\n",
              "      <td>1986-03-19</td>\n",
              "      <td>0.0650</td>\n",
              "      <td>0.0656</td>\n",
              "      <td>0.0633</td>\n",
              "      <td>0.0639</td>\n",
              "      <td>47894400</td>\n",
              "    </tr>\n",
              "  </tbody>\n",
              "</table>\n",
              "</div>"
            ],
            "text/plain": [
              "         date    open    high     low   close      volume\n",
              "0  1986-03-13  0.0577  0.0662  0.0577  0.0633  1031788800\n",
              "1  1986-03-14  0.0633  0.0667  0.0633  0.0656   308160000\n",
              "2  1986-03-17  0.0656  0.0673  0.0656  0.0667   133171200\n",
              "3  1986-03-18  0.0667  0.0673  0.0645  0.0650    67766400\n",
              "4  1986-03-19  0.0650  0.0656  0.0633  0.0639    47894400"
            ]
          },
          "metadata": {
            "tags": []
          },
          "execution_count": 54
        }
      ]
    },
    {
      "cell_type": "code",
      "metadata": {
        "id": "xlIoIgd2EziZ",
        "colab_type": "code",
        "colab": {
          "base_uri": "https://localhost:8080/",
          "height": 119
        },
        "outputId": "8f896f90-117e-4ee0-9bf3-65f93140792c"
      },
      "source": [
        "for col in data:\n",
        "    col_np = data[col].to_numpy()\n",
        "    print(col, type(col_np[0]))"
      ],
      "execution_count": 56,
      "outputs": [
        {
          "output_type": "stream",
          "text": [
            "date <class 'str'>\n",
            "open <class 'numpy.float64'>\n",
            "high <class 'numpy.float64'>\n",
            "low <class 'numpy.float64'>\n",
            "close <class 'numpy.float64'>\n",
            "volume <class 'numpy.int64'>\n"
          ],
          "name": "stdout"
        }
      ]
    },
    {
      "cell_type": "markdown",
      "metadata": {
        "id": "Hn-a9xqHcbkR",
        "colab_type": "text"
      },
      "source": [
        "# Amphibians Dataset"
      ]
    },
    {
      "cell_type": "code",
      "metadata": {
        "id": "DzsrOykFe0RU",
        "colab_type": "code",
        "colab": {}
      },
      "source": [
        "with open('drive/My Drive/Amphibians.csv', 'r') as fin:\n",
        "    data = fin.read().splitlines(True)\n",
        "\n",
        "    j = 0\n",
        "    for line in data:\n",
        "        i = 0\n",
        "        for char in line: \n",
        "            if char == ';':\n",
        "               line = line[:i] + ',' + line[i+1:]\n",
        "\n",
        "            i+=1\n",
        "\n",
        "        data[j] = line\n",
        "        j+=1\n",
        "\n",
        "with open('drive/My Drive/Amphibians_new.csv', 'w') as fout:\n",
        "    fout.writelines(data[1:])"
      ],
      "execution_count": 57,
      "outputs": []
    },
    {
      "cell_type": "code",
      "metadata": {
        "id": "IP1qA8bzcLvM",
        "colab_type": "code",
        "colab": {}
      },
      "source": [
        "filepath_2 = \"drive/My Drive/Amphibians_new.csv\"\n",
        "\n",
        "data_2 = pd.read_csv(filepath_2)"
      ],
      "execution_count": 58,
      "outputs": []
    },
    {
      "cell_type": "code",
      "metadata": {
        "id": "OBzYKamfc-tL",
        "colab_type": "code",
        "colab": {
          "base_uri": "https://localhost:8080/",
          "height": 258
        },
        "outputId": "37058229-95f3-48d7-b173-5cea5a0d567c"
      },
      "source": [
        "data_2.head()"
      ],
      "execution_count": 59,
      "outputs": [
        {
          "output_type": "execute_result",
          "data": {
            "text/html": [
              "<div>\n",
              "<style scoped>\n",
              "    .dataframe tbody tr th:only-of-type {\n",
              "        vertical-align: middle;\n",
              "    }\n",
              "\n",
              "    .dataframe tbody tr th {\n",
              "        vertical-align: top;\n",
              "    }\n",
              "\n",
              "    .dataframe thead th {\n",
              "        text-align: right;\n",
              "    }\n",
              "</style>\n",
              "<table border=\"1\" class=\"dataframe\">\n",
              "  <thead>\n",
              "    <tr style=\"text-align: right;\">\n",
              "      <th></th>\n",
              "      <th>ID</th>\n",
              "      <th>Motorway</th>\n",
              "      <th>SR</th>\n",
              "      <th>NR</th>\n",
              "      <th>TR</th>\n",
              "      <th>VR</th>\n",
              "      <th>SUR1</th>\n",
              "      <th>SUR2</th>\n",
              "      <th>SUR3</th>\n",
              "      <th>UR</th>\n",
              "      <th>FR</th>\n",
              "      <th>OR</th>\n",
              "      <th>RR</th>\n",
              "      <th>BR</th>\n",
              "      <th>MR</th>\n",
              "      <th>CR</th>\n",
              "      <th>Green frogs</th>\n",
              "      <th>Brown frogs</th>\n",
              "      <th>Common toad</th>\n",
              "      <th>Fire-bellied toad</th>\n",
              "      <th>Tree frog</th>\n",
              "      <th>Common newt</th>\n",
              "      <th>Great crested newt</th>\n",
              "    </tr>\n",
              "  </thead>\n",
              "  <tbody>\n",
              "    <tr>\n",
              "      <th>0</th>\n",
              "      <td>1</td>\n",
              "      <td>A1</td>\n",
              "      <td>600</td>\n",
              "      <td>1</td>\n",
              "      <td>1</td>\n",
              "      <td>4</td>\n",
              "      <td>6</td>\n",
              "      <td>2</td>\n",
              "      <td>10</td>\n",
              "      <td>0</td>\n",
              "      <td>0</td>\n",
              "      <td>50</td>\n",
              "      <td>0</td>\n",
              "      <td>0</td>\n",
              "      <td>0</td>\n",
              "      <td>1</td>\n",
              "      <td>0</td>\n",
              "      <td>0</td>\n",
              "      <td>0</td>\n",
              "      <td>0</td>\n",
              "      <td>0</td>\n",
              "      <td>0</td>\n",
              "      <td>0</td>\n",
              "    </tr>\n",
              "    <tr>\n",
              "      <th>1</th>\n",
              "      <td>2</td>\n",
              "      <td>A1</td>\n",
              "      <td>700</td>\n",
              "      <td>1</td>\n",
              "      <td>5</td>\n",
              "      <td>1</td>\n",
              "      <td>10</td>\n",
              "      <td>6</td>\n",
              "      <td>10</td>\n",
              "      <td>3</td>\n",
              "      <td>1</td>\n",
              "      <td>75</td>\n",
              "      <td>1</td>\n",
              "      <td>1</td>\n",
              "      <td>0</td>\n",
              "      <td>1</td>\n",
              "      <td>0</td>\n",
              "      <td>1</td>\n",
              "      <td>1</td>\n",
              "      <td>0</td>\n",
              "      <td>0</td>\n",
              "      <td>1</td>\n",
              "      <td>0</td>\n",
              "    </tr>\n",
              "    <tr>\n",
              "      <th>2</th>\n",
              "      <td>3</td>\n",
              "      <td>A1</td>\n",
              "      <td>200</td>\n",
              "      <td>1</td>\n",
              "      <td>5</td>\n",
              "      <td>1</td>\n",
              "      <td>10</td>\n",
              "      <td>6</td>\n",
              "      <td>10</td>\n",
              "      <td>3</td>\n",
              "      <td>4</td>\n",
              "      <td>75</td>\n",
              "      <td>1</td>\n",
              "      <td>1</td>\n",
              "      <td>0</td>\n",
              "      <td>1</td>\n",
              "      <td>0</td>\n",
              "      <td>1</td>\n",
              "      <td>1</td>\n",
              "      <td>0</td>\n",
              "      <td>0</td>\n",
              "      <td>1</td>\n",
              "      <td>0</td>\n",
              "    </tr>\n",
              "    <tr>\n",
              "      <th>3</th>\n",
              "      <td>4</td>\n",
              "      <td>A1</td>\n",
              "      <td>300</td>\n",
              "      <td>1</td>\n",
              "      <td>5</td>\n",
              "      <td>0</td>\n",
              "      <td>6</td>\n",
              "      <td>10</td>\n",
              "      <td>2</td>\n",
              "      <td>3</td>\n",
              "      <td>4</td>\n",
              "      <td>25</td>\n",
              "      <td>0</td>\n",
              "      <td>0</td>\n",
              "      <td>0</td>\n",
              "      <td>1</td>\n",
              "      <td>0</td>\n",
              "      <td>0</td>\n",
              "      <td>1</td>\n",
              "      <td>0</td>\n",
              "      <td>0</td>\n",
              "      <td>0</td>\n",
              "      <td>0</td>\n",
              "    </tr>\n",
              "    <tr>\n",
              "      <th>4</th>\n",
              "      <td>5</td>\n",
              "      <td>A1</td>\n",
              "      <td>600</td>\n",
              "      <td>2</td>\n",
              "      <td>1</td>\n",
              "      <td>4</td>\n",
              "      <td>10</td>\n",
              "      <td>2</td>\n",
              "      <td>6</td>\n",
              "      <td>0</td>\n",
              "      <td>0</td>\n",
              "      <td>99</td>\n",
              "      <td>0</td>\n",
              "      <td>5</td>\n",
              "      <td>0</td>\n",
              "      <td>1</td>\n",
              "      <td>0</td>\n",
              "      <td>1</td>\n",
              "      <td>1</td>\n",
              "      <td>1</td>\n",
              "      <td>0</td>\n",
              "      <td>1</td>\n",
              "      <td>1</td>\n",
              "    </tr>\n",
              "  </tbody>\n",
              "</table>\n",
              "</div>"
            ],
            "text/plain": [
              "   ID Motorway   SR  ...  Tree frog  Common newt  Great crested newt\n",
              "0   1       A1  600  ...          0            0                   0\n",
              "1   2       A1  700  ...          0            1                   0\n",
              "2   3       A1  200  ...          0            1                   0\n",
              "3   4       A1  300  ...          0            0                   0\n",
              "4   5       A1  600  ...          0            1                   1\n",
              "\n",
              "[5 rows x 23 columns]"
            ]
          },
          "metadata": {
            "tags": []
          },
          "execution_count": 59
        }
      ]
    },
    {
      "cell_type": "code",
      "metadata": {
        "id": "pKO10db19A1D",
        "colab_type": "code",
        "colab": {
          "base_uri": "https://localhost:8080/",
          "height": 408
        },
        "outputId": "2b006a48-6f84-4ed3-f16c-7fd62a2c987a"
      },
      "source": [
        "for col in data_2:\n",
        "    col_np = data_2[col].to_numpy()\n",
        "    print(col, type(col_np[0]))"
      ],
      "execution_count": 62,
      "outputs": [
        {
          "output_type": "stream",
          "text": [
            "ID <class 'numpy.int64'>\n",
            "Motorway <class 'str'>\n",
            "SR <class 'numpy.int64'>\n",
            "NR <class 'numpy.int64'>\n",
            "TR <class 'numpy.int64'>\n",
            "VR <class 'numpy.int64'>\n",
            "SUR1 <class 'numpy.int64'>\n",
            "SUR2 <class 'numpy.int64'>\n",
            "SUR3 <class 'numpy.int64'>\n",
            "UR <class 'numpy.int64'>\n",
            "FR <class 'numpy.int64'>\n",
            "OR <class 'numpy.int64'>\n",
            "RR <class 'numpy.int64'>\n",
            "BR <class 'numpy.int64'>\n",
            "MR <class 'numpy.int64'>\n",
            "CR <class 'numpy.int64'>\n",
            "Green frogs <class 'numpy.int64'>\n",
            "Brown frogs <class 'numpy.int64'>\n",
            "Common toad <class 'numpy.int64'>\n",
            "Fire-bellied toad <class 'numpy.int64'>\n",
            "Tree frog <class 'numpy.int64'>\n",
            "Common newt <class 'numpy.int64'>\n",
            "Great crested newt <class 'numpy.int64'>\n"
          ],
          "name": "stdout"
        }
      ]
    },
    {
      "cell_type": "markdown",
      "metadata": {
        "id": "ZrB5dz6SCTIQ",
        "colab_type": "text"
      },
      "source": [
        "# HMIS Operation Dataset"
      ]
    },
    {
      "cell_type": "code",
      "metadata": {
        "id": "52LtIuhmCYmZ",
        "colab_type": "code",
        "colab": {}
      },
      "source": [
        "filepath_3 = \"drive/My Drive/HMIS_Anaesthesia.csv\"\n",
        "\n",
        "data_3 = pd.read_csv(filepath_3)"
      ],
      "execution_count": 63,
      "outputs": []
    },
    {
      "cell_type": "code",
      "metadata": {
        "id": "pu0z9kM_C1Nu",
        "colab_type": "code",
        "colab": {
          "base_uri": "https://localhost:8080/",
          "height": 309
        },
        "outputId": "15ce8fc7-9477-47d2-fc06-2a10e685f8e1"
      },
      "source": [
        "data_3.head()"
      ],
      "execution_count": 64,
      "outputs": [
        {
          "output_type": "execute_result",
          "data": {
            "text/html": [
              "<div>\n",
              "<style scoped>\n",
              "    .dataframe tbody tr th:only-of-type {\n",
              "        vertical-align: middle;\n",
              "    }\n",
              "\n",
              "    .dataframe tbody tr th {\n",
              "        vertical-align: top;\n",
              "    }\n",
              "\n",
              "    .dataframe thead th {\n",
              "        text-align: right;\n",
              "    }\n",
              "</style>\n",
              "<table border=\"1\" class=\"dataframe\">\n",
              "  <thead>\n",
              "    <tr style=\"text-align: right;\">\n",
              "      <th></th>\n",
              "      <th>District</th>\n",
              "      <th>Facility Type</th>\n",
              "      <th>Total No. of Facilities #</th>\n",
              "      <th>No. of facilities reporting nil performance *</th>\n",
              "      <th>Performance - Overall Average **</th>\n",
              "      <th>Performance - Maximum</th>\n",
              "      <th>Performance - Minimum</th>\n",
              "      <th>No. of facilities by performance - 1 to 30</th>\n",
              "      <th>No. of facilities by performance - 31 to 150</th>\n",
              "      <th>No. of facilities by performance - 151 to 300</th>\n",
              "      <th>No. of facilities by performance - &gt;300</th>\n",
              "    </tr>\n",
              "  </thead>\n",
              "  <tbody>\n",
              "    <tr>\n",
              "      <th>0</th>\n",
              "      <td>Alipurduar</td>\n",
              "      <td>DH</td>\n",
              "      <td>2</td>\n",
              "      <td>1</td>\n",
              "      <td>274</td>\n",
              "      <td>274</td>\n",
              "      <td>274</td>\n",
              "      <td>0</td>\n",
              "      <td>0</td>\n",
              "      <td>1</td>\n",
              "      <td>0</td>\n",
              "    </tr>\n",
              "    <tr>\n",
              "      <th>1</th>\n",
              "      <td>Alipurduar</td>\n",
              "      <td>SDH</td>\n",
              "      <td>2</td>\n",
              "      <td>1</td>\n",
              "      <td>64</td>\n",
              "      <td>64</td>\n",
              "      <td>64</td>\n",
              "      <td>0</td>\n",
              "      <td>1</td>\n",
              "      <td>0</td>\n",
              "      <td>0</td>\n",
              "    </tr>\n",
              "    <tr>\n",
              "      <th>2</th>\n",
              "      <td>Bankura</td>\n",
              "      <td>DH</td>\n",
              "      <td>4</td>\n",
              "      <td>1</td>\n",
              "      <td>302</td>\n",
              "      <td>487</td>\n",
              "      <td>93</td>\n",
              "      <td>0</td>\n",
              "      <td>1</td>\n",
              "      <td>0</td>\n",
              "      <td>2</td>\n",
              "    </tr>\n",
              "    <tr>\n",
              "      <th>3</th>\n",
              "      <td>Bankura</td>\n",
              "      <td>CHC</td>\n",
              "      <td>23</td>\n",
              "      <td>9</td>\n",
              "      <td>179</td>\n",
              "      <td>607</td>\n",
              "      <td>6</td>\n",
              "      <td>2</td>\n",
              "      <td>4</td>\n",
              "      <td>6</td>\n",
              "      <td>2</td>\n",
              "    </tr>\n",
              "    <tr>\n",
              "      <th>4</th>\n",
              "      <td>Birbhum</td>\n",
              "      <td>DH</td>\n",
              "      <td>2</td>\n",
              "      <td>0</td>\n",
              "      <td>561</td>\n",
              "      <td>589</td>\n",
              "      <td>534</td>\n",
              "      <td>0</td>\n",
              "      <td>0</td>\n",
              "      <td>0</td>\n",
              "      <td>2</td>\n",
              "    </tr>\n",
              "  </tbody>\n",
              "</table>\n",
              "</div>"
            ],
            "text/plain": [
              "     District  ... No. of facilities by performance - >300\n",
              "0  Alipurduar  ...                                       0\n",
              "1  Alipurduar  ...                                       0\n",
              "2     Bankura  ...                                       2\n",
              "3     Bankura  ...                                       2\n",
              "4     Birbhum  ...                                       2\n",
              "\n",
              "[5 rows x 11 columns]"
            ]
          },
          "metadata": {
            "tags": []
          },
          "execution_count": 64
        }
      ]
    },
    {
      "cell_type": "code",
      "metadata": {
        "id": "Lwl64zPyDSMS",
        "colab_type": "code",
        "colab": {
          "base_uri": "https://localhost:8080/",
          "height": 204
        },
        "outputId": "1fadfc94-f4b6-4be8-a028-cbf58dc31deb"
      },
      "source": [
        "for col in data_3:\n",
        "    col_np = data_3[col]\n",
        "    print(col, type(col_np[0]))"
      ],
      "execution_count": 65,
      "outputs": [
        {
          "output_type": "stream",
          "text": [
            "District <class 'str'>\n",
            "Facility Type <class 'str'>\n",
            "Total No. of Facilities # <class 'numpy.int64'>\n",
            "No. of facilities reporting nil performance * <class 'numpy.int64'>\n",
            "Performance - Overall Average ** <class 'numpy.int64'>\n",
            "Performance - Maximum <class 'numpy.int64'>\n",
            "Performance - Minimum <class 'numpy.int64'>\n",
            "No. of facilities by performance - 1 to 30 <class 'numpy.int64'>\n",
            "No. of facilities by performance - 31 to 150 <class 'numpy.int64'>\n",
            "No. of facilities by performance - 151 to 300 <class 'numpy.int64'>\n",
            "No. of facilities by performance - >300 <class 'numpy.int64'>\n"
          ],
          "name": "stdout"
        }
      ]
    },
    {
      "cell_type": "code",
      "metadata": {
        "id": "Ae37C_sIEviv",
        "colab_type": "code",
        "colab": {}
      },
      "source": [
        ""
      ],
      "execution_count": null,
      "outputs": []
    }
  ]
}